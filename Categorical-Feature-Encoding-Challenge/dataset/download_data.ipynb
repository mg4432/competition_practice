{
 "cells": [
  {
   "cell_type": "code",
   "execution_count": 1,
   "metadata": {
    "ExecuteTime": {
     "end_time": "2022-06-03T07:22:45.484644Z",
     "start_time": "2022-06-03T07:22:40.034306Z"
    }
   },
   "outputs": [
    {
     "name": "stdout",
     "output_type": "stream",
     "text": [
      "Downloading cat-in-the-dat.zip to C:\\Users\\ASUS\\python\\kaggle_practice\\Categorical-Feature-Encoding-Challenge\\dataset\n",
      "\n"
     ]
    },
    {
     "name": "stderr",
     "output_type": "stream",
     "text": [
      "\n",
      "  0%|          | 0.00/21.2M [00:00<?, ?B/s]\n",
      "  5%|4         | 1.00M/21.2M [00:00<00:05, 3.70MB/s]\n",
      "  9%|9         | 2.00M/21.2M [00:00<00:04, 4.28MB/s]\n",
      " 19%|#8        | 4.00M/21.2M [00:00<00:03, 5.31MB/s]\n",
      " 28%|##8       | 6.00M/21.2M [00:00<00:02, 6.46MB/s]\n",
      " 38%|###7      | 8.00M/21.2M [00:00<00:01, 7.47MB/s]\n",
      " 47%|####7     | 10.0M/21.2M [00:01<00:01, 8.41MB/s]\n",
      " 57%|#####6    | 12.0M/21.2M [00:01<00:01, 8.79MB/s]\n",
      " 66%|######5   | 14.0M/21.2M [00:01<00:00, 9.83MB/s]\n",
      " 75%|#######5  | 16.0M/21.2M [00:01<00:00, 8.36MB/s]\n",
      " 85%|########4 | 18.0M/21.2M [00:02<00:00, 9.11MB/s]\n",
      " 90%|########9 | 19.0M/21.2M [00:02<00:00, 9.07MB/s]\n",
      " 99%|#########8| 21.0M/21.2M [00:02<00:00, 10.2MB/s]\n",
      "100%|##########| 21.2M/21.2M [00:02<00:00, 9.67MB/s]\n"
     ]
    }
   ],
   "source": [
    "!kaggle competitions download -c cat-in-the-dat"
   ]
  },
  {
   "cell_type": "code",
   "execution_count": 2,
   "metadata": {
    "ExecuteTime": {
     "end_time": "2022-06-03T07:22:58.140228Z",
     "start_time": "2022-06-03T07:22:57.512940Z"
    }
   },
   "outputs": [
    {
     "name": "stdout",
     "output_type": "stream",
     "text": [
      "Archive:  cat-in-the-dat.zip\n",
      "  inflating: sample_submission.csv   \n",
      "  inflating: test.csv                \n",
      "  inflating: train.csv               \n"
     ]
    }
   ],
   "source": [
    "!unzip cat-in-the-dat.zip"
   ]
  },
  {
   "cell_type": "code",
   "execution_count": null,
   "metadata": {},
   "outputs": [],
   "source": []
  }
 ],
 "metadata": {
  "hide_input": false,
  "kernelspec": {
   "display_name": "Python 3",
   "language": "python",
   "name": "python3"
  },
  "language_info": {
   "codemirror_mode": {
    "name": "ipython",
    "version": 3
   },
   "file_extension": ".py",
   "mimetype": "text/x-python",
   "name": "python",
   "nbconvert_exporter": "python",
   "pygments_lexer": "ipython3",
   "version": "3.8.5"
  },
  "toc": {
   "base_numbering": 1,
   "nav_menu": {},
   "number_sections": true,
   "sideBar": true,
   "skip_h1_title": false,
   "title_cell": "Table of Contents",
   "title_sidebar": "Contents",
   "toc_cell": false,
   "toc_position": {},
   "toc_section_display": true,
   "toc_window_display": false
  },
  "varInspector": {
   "cols": {
    "lenName": 16,
    "lenType": 16,
    "lenVar": 40
   },
   "kernels_config": {
    "python": {
     "delete_cmd_postfix": "",
     "delete_cmd_prefix": "del ",
     "library": "var_list.py",
     "varRefreshCmd": "print(var_dic_list())"
    },
    "r": {
     "delete_cmd_postfix": ") ",
     "delete_cmd_prefix": "rm(",
     "library": "var_list.r",
     "varRefreshCmd": "cat(var_dic_list()) "
    }
   },
   "types_to_exclude": [
    "module",
    "function",
    "builtin_function_or_method",
    "instance",
    "_Feature"
   ],
   "window_display": false
  }
 },
 "nbformat": 4,
 "nbformat_minor": 4
}
