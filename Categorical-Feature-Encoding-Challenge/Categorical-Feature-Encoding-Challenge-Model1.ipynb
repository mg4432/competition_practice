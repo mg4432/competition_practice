{
 "cells": [
  {
   "cell_type": "markdown",
   "metadata": {},
   "source": [
    "# Load data"
   ]
  },
  {
   "cell_type": "markdown",
   "metadata": {},
   "source": [
    "## library & load data"
   ]
  },
  {
   "cell_type": "code",
   "execution_count": 1,
   "metadata": {
    "ExecuteTime": {
     "end_time": "2022-06-03T10:53:07.253491Z",
     "start_time": "2022-06-03T10:53:04.253511Z"
    }
   },
   "outputs": [],
   "source": [
    "import pandas as pd \n",
    "import numpy as np \n",
    "\n",
    "train = pd.read_csv('dataset/train.csv', index_col = 'id')\n",
    "test = pd.read_csv('dataset/test.csv', index_col = 'id')\n",
    "submission = pd.read_csv('dataset/sample_submission.csv', index_col = 'id')"
   ]
  },
  {
   "cell_type": "markdown",
   "metadata": {},
   "source": [
    "# Feature Engineering "
   ]
  },
  {
   "cell_type": "markdown",
   "metadata": {},
   "source": [
    "피처 특성에 맞게 인코딩해서 성능 개선 \n",
    "- 이진 피처 > 순서형 피처 > 명목형 피처 > 날짜 피처 순으로 진행 "
   ]
  },
  {
   "cell_type": "markdown",
   "metadata": {},
   "source": [
    "## concat data "
   ]
  },
  {
   "cell_type": "code",
   "execution_count": 2,
   "metadata": {
    "ExecuteTime": {
     "end_time": "2022-06-03T10:53:07.508808Z",
     "start_time": "2022-06-03T10:53:07.255486Z"
    }
   },
   "outputs": [],
   "source": [
    "all_data = pd.concat([train, test], ignore_index = True) \n",
    "all_data = all_data.drop('target', axis = 1) "
   ]
  },
  {
   "cell_type": "markdown",
   "metadata": {},
   "source": [
    "## 이진 피처 인코딩"
   ]
  },
  {
   "cell_type": "markdown",
   "metadata": {},
   "source": [
    "bin_0 ~ bin_2는 이미 0과 1로만 구성되어있기 때문에 따로 인코딩하지 않아도 됨 "
   ]
  },
  {
   "cell_type": "code",
   "execution_count": 3,
   "metadata": {
    "ExecuteTime": {
     "end_time": "2022-06-03T10:53:07.628828Z",
     "start_time": "2022-06-03T10:53:07.511800Z"
    }
   },
   "outputs": [],
   "source": [
    "all_data['bin_3'] = all_data['bin_3'].map({'F' : 0, 'T' : 1})\n",
    "all_data['bin_4'] = all_data['bin_4'].map({'N' : 0, 'Y' : 1})"
   ]
  },
  {
   "cell_type": "markdown",
   "metadata": {},
   "source": [
    "## 순서형 피처 인코딩 "
   ]
  },
  {
   "cell_type": "code",
   "execution_count": 4,
   "metadata": {
    "ExecuteTime": {
     "end_time": "2022-06-03T10:53:07.674349Z",
     "start_time": "2022-06-03T10:53:07.630687Z"
    }
   },
   "outputs": [
    {
     "data": {
      "text/plain": [
       "array(['Grandmaster', 'Expert', 'Novice', 'Contributor', 'Master'],\n",
       "      dtype=object)"
      ]
     },
     "execution_count": 4,
     "metadata": {},
     "output_type": "execute_result"
    }
   ],
   "source": [
    "all_data['ord_1'].unique()"
   ]
  },
  {
   "cell_type": "code",
   "execution_count": 5,
   "metadata": {
    "ExecuteTime": {
     "end_time": "2022-06-03T10:53:07.809393Z",
     "start_time": "2022-06-03T10:53:07.676813Z"
    },
    "scrolled": false
   },
   "outputs": [
    {
     "name": "stdout",
     "output_type": "stream",
     "text": [
      "ord_0 고유값 :  [2 1 3]\n",
      "ord_1 고유값 :  ['Grandmaster' 'Expert' 'Novice' 'Contributor' 'Master']\n",
      "ord_2 고유값 :  ['Cold' 'Hot' 'Lava Hot' 'Boiling Hot' 'Freezing' 'Warm']\n",
      "ord_3 고유값 :  ['h' 'a' 'i' 'j' 'g' 'e' 'd' 'b' 'k' 'f' 'l' 'n' 'o' 'c' 'm']\n",
      "ord_4 고유값 :  ['D' 'A' 'R' 'E' 'P' 'K' 'V' 'Q' 'Z' 'L' 'F' 'T' 'U' 'S' 'Y' 'B' 'H' 'J'\n",
      " 'N' 'G' 'W' 'I' 'O' 'C' 'X' 'M']\n",
      "ord_5 고유값 :  ['kr' 'bF' 'Jc' 'kW' 'qP' 'PZ' 'wy' 'Ed' 'qo' 'CZ' 'qX' 'su' 'dP' 'aP'\n",
      " 'MV' 'oC' 'RL' 'fh' 'gJ' 'Hj' 'TR' 'CL' 'Sc' 'eQ' 'kC' 'qK' 'dh' 'gM'\n",
      " 'Jf' 'fO' 'Eg' 'KZ' 'Vx' 'Fo' 'sV' 'eb' 'YC' 'RG' 'Ye' 'qA' 'lL' 'Qh'\n",
      " 'Bd' 'be' 'hT' 'lF' 'nX' 'kK' 'av' 'uS' 'Jt' 'PA' 'Er' 'Qb' 'od' 'ut'\n",
      " 'Dx' 'Xi' 'on' 'Dc' 'sD' 'rZ' 'Uu' 'sn' 'yc' 'Gb' 'Kq' 'dQ' 'hp' 'kL'\n",
      " 'je' 'CU' 'Fd' 'PQ' 'Bn' 'ex' 'hh' 'ac' 'rp' 'dE' 'oG' 'oK' 'cp' 'mm'\n",
      " 'vK' 'ek' 'dO' 'XI' 'CM' 'Vf' 'aO' 'qv' 'jp' 'Zq' 'Qo' 'DN' 'TZ' 'ke'\n",
      " 'cG' 'tP' 'ud' 'tv' 'aM' 'xy' 'lx' 'To' 'uy' 'ZS' 'vy' 'ZR' 'AP' 'GJ'\n",
      " 'Wv' 'ri' 'qw' 'Xh' 'FI' 'nh' 'KR' 'dB' 'BE' 'Bb' 'mc' 'MC' 'tM' 'NV'\n",
      " 'ih' 'IK' 'Ob' 'RP' 'dN' 'us' 'dZ' 'yN' 'Nf' 'QM' 'jV' 'sY' 'wu' 'SB'\n",
      " 'UO' 'Mx' 'JX' 'Ry' 'Uk' 'uJ' 'LE' 'ps' 'kE' 'MO' 'kw' 'yY' 'zU' 'bJ'\n",
      " 'Kf' 'ck' 'mb' 'Os' 'Ps' 'Ml' 'Ai' 'Wc' 'GD' 'll' 'aF' 'iT' 'cA' 'WE'\n",
      " 'Gx' 'Nk' 'OR' 'Rm' 'BA' 'eG' 'cW' 'jS' 'DH' 'hL' 'Mf' 'Yb' 'Aj' 'oH'\n",
      " 'Zc' 'qJ' 'eg' 'xP' 'vq' 'Id' 'pa' 'ux' 'kU' 'Cl']\n"
     ]
    }
   ],
   "source": [
    "for i in range(6) : \n",
    "    feature = 'ord_' + str(i)\n",
    "    print(f'{feature} 고유값 :  {all_data[feature].unique()}')"
   ]
  },
  {
   "cell_type": "code",
   "execution_count": 6,
   "metadata": {
    "ExecuteTime": {
     "end_time": "2022-06-03T10:53:07.959554Z",
     "start_time": "2022-06-03T10:53:07.811181Z"
    }
   },
   "outputs": [],
   "source": [
    "all_data['ord_1'] = all_data['ord_1'].map({'Novice' : 0, 'Contributor' : 1,\n",
    "                                           'Expert' : 2, 'Master' : 3, 'Grandmaster' : 4})\n",
    "\n",
    "all_data['ord_2'] = all_data['ord_2'].map({'Freezing' : 0, 'Cold' : 1,\n",
    "                                           'Warm' : 2, 'Hot' : 3, \n",
    "                                           'Boiling Hot' : 4, 'Lava Hot' : 5})"
   ]
  },
  {
   "cell_type": "markdown",
   "metadata": {},
   "source": [
    "ord_3~ord_5는 사이킷런의 `OrdinalEncoder` 이용 "
   ]
  },
  {
   "cell_type": "code",
   "execution_count": 7,
   "metadata": {
    "ExecuteTime": {
     "end_time": "2022-06-03T10:53:10.955049Z",
     "start_time": "2022-06-03T10:53:07.962778Z"
    }
   },
   "outputs": [
    {
     "name": "stdout",
     "output_type": "stream",
     "text": [
      "ord_3\n",
      "['a' 'b' 'c' 'd' 'e' 'f' 'g' 'h' 'i' 'j' 'k' 'l' 'm' 'n' 'o']\n",
      "ord_4\n",
      "['A' 'B' 'C' 'D' 'E' 'F' 'G' 'H' 'I' 'J' 'K' 'L' 'M' 'N' 'O' 'P' 'Q' 'R'\n",
      " 'S' 'T' 'U' 'V' 'W' 'X' 'Y' 'Z']\n",
      "ord_5\n",
      "['AP' 'Ai' 'Aj' 'BA' 'BE' 'Bb' 'Bd' 'Bn' 'CL' 'CM' 'CU' 'CZ' 'Cl' 'DH'\n",
      " 'DN' 'Dc' 'Dx' 'Ed' 'Eg' 'Er' 'FI' 'Fd' 'Fo' 'GD' 'GJ' 'Gb' 'Gx' 'Hj'\n",
      " 'IK' 'Id' 'JX' 'Jc' 'Jf' 'Jt' 'KR' 'KZ' 'Kf' 'Kq' 'LE' 'MC' 'MO' 'MV'\n",
      " 'Mf' 'Ml' 'Mx' 'NV' 'Nf' 'Nk' 'OR' 'Ob' 'Os' 'PA' 'PQ' 'PZ' 'Ps' 'QM'\n",
      " 'Qb' 'Qh' 'Qo' 'RG' 'RL' 'RP' 'Rm' 'Ry' 'SB' 'Sc' 'TR' 'TZ' 'To' 'UO'\n",
      " 'Uk' 'Uu' 'Vf' 'Vx' 'WE' 'Wc' 'Wv' 'XI' 'Xh' 'Xi' 'YC' 'Yb' 'Ye' 'ZR'\n",
      " 'ZS' 'Zc' 'Zq' 'aF' 'aM' 'aO' 'aP' 'ac' 'av' 'bF' 'bJ' 'be' 'cA' 'cG'\n",
      " 'cW' 'ck' 'cp' 'dB' 'dE' 'dN' 'dO' 'dP' 'dQ' 'dZ' 'dh' 'eG' 'eQ' 'eb'\n",
      " 'eg' 'ek' 'ex' 'fO' 'fh' 'gJ' 'gM' 'hL' 'hT' 'hh' 'hp' 'iT' 'ih' 'jS'\n",
      " 'jV' 'je' 'jp' 'kC' 'kE' 'kK' 'kL' 'kU' 'kW' 'ke' 'kr' 'kw' 'lF' 'lL'\n",
      " 'll' 'lx' 'mb' 'mc' 'mm' 'nX' 'nh' 'oC' 'oG' 'oH' 'oK' 'od' 'on' 'pa'\n",
      " 'ps' 'qA' 'qJ' 'qK' 'qP' 'qX' 'qo' 'qv' 'qw' 'rZ' 'ri' 'rp' 'sD' 'sV'\n",
      " 'sY' 'sn' 'su' 'tM' 'tP' 'tv' 'uJ' 'uS' 'ud' 'us' 'ut' 'ux' 'uy' 'vK'\n",
      " 'vq' 'vy' 'wu' 'wy' 'xP' 'xy' 'yN' 'yY' 'yc' 'zU']\n"
     ]
    }
   ],
   "source": [
    "from sklearn.preprocessing import OrdinalEncoder\n",
    "\n",
    "ord_345 = ['ord_3', 'ord_4', 'ord_5']\n",
    "ord_encoder = OrdinalEncoder()\n",
    "\n",
    "all_data[ord_345] = ord_encoder.fit_transform(all_data[ord_345])\n",
    "\n",
    "# 피처별 인코딩 순서 출력 \n",
    "for feature, categories in zip(ord_345, ord_encoder.categories_) : \n",
    "    print(feature)\n",
    "    print(categories)"
   ]
  },
  {
   "cell_type": "markdown",
   "metadata": {},
   "source": [
    "## 명목형 피처 인코딩 \n",
    "- 순서를 무시해도 되기 때문에 원-핫 인코딩 적용 "
   ]
  },
  {
   "cell_type": "code",
   "execution_count": 8,
   "metadata": {
    "ExecuteTime": {
     "end_time": "2022-06-03T10:53:10.970066Z",
     "start_time": "2022-06-03T10:53:10.958884Z"
    }
   },
   "outputs": [],
   "source": [
    "nom_features = ['nom_' + str(i) for i in range(10)]"
   ]
  },
  {
   "cell_type": "code",
   "execution_count": 9,
   "metadata": {
    "ExecuteTime": {
     "end_time": "2022-06-03T10:53:12.679512Z",
     "start_time": "2022-06-03T10:53:10.974000Z"
    }
   },
   "outputs": [],
   "source": [
    "from sklearn.preprocessing import OneHotEncoder\n",
    "\n",
    "onehot_encoder = OneHotEncoder()\n",
    "encoded_nom_matrix = onehot_encoder.fit_transform(all_data[nom_features])"
   ]
  },
  {
   "cell_type": "code",
   "execution_count": 10,
   "metadata": {
    "ExecuteTime": {
     "end_time": "2022-06-03T10:53:12.694476Z",
     "start_time": "2022-06-03T10:53:12.682507Z"
    }
   },
   "outputs": [
    {
     "data": {
      "text/plain": [
       "<500000x16276 sparse matrix of type '<class 'numpy.float64'>'\n",
       "\twith 5000000 stored elements in Compressed Sparse Row format>"
      ]
     },
     "execution_count": 10,
     "metadata": {},
     "output_type": "execute_result"
    }
   ],
   "source": [
    "encoded_nom_matrix"
   ]
  },
  {
   "cell_type": "markdown",
   "metadata": {},
   "source": [
    "기존의 명목형 변수는 삭제"
   ]
  },
  {
   "cell_type": "code",
   "execution_count": 11,
   "metadata": {
    "ExecuteTime": {
     "end_time": "2022-06-03T10:53:12.754364Z",
     "start_time": "2022-06-03T10:53:12.697466Z"
    }
   },
   "outputs": [],
   "source": [
    "all_data.drop(nom_features, axis = 1, inplace = True)"
   ]
  },
  {
   "cell_type": "markdown",
   "metadata": {},
   "source": [
    "## 날짜 피처 인코딩 "
   ]
  },
  {
   "cell_type": "code",
   "execution_count": 12,
   "metadata": {
    "ExecuteTime": {
     "end_time": "2022-06-03T10:53:12.889551Z",
     "start_time": "2022-06-03T10:53:12.755310Z"
    }
   },
   "outputs": [
    {
     "data": {
      "text/plain": [
       "<500000x19 sparse matrix of type '<class 'numpy.float64'>'\n",
       "\twith 1000000 stored elements in Compressed Sparse Row format>"
      ]
     },
     "execution_count": 12,
     "metadata": {},
     "output_type": "execute_result"
    }
   ],
   "source": [
    "date_features = ['day', 'month'] \n",
    "\n",
    "encoded_date_matrix = onehot_encoder.fit_transform(all_data[date_features])\n",
    "\n",
    "all_data.drop(date_features, axis = 1, inplace = True)\n",
    "\n",
    "encoded_date_matrix"
   ]
  },
  {
   "cell_type": "markdown",
   "metadata": {},
   "source": [
    "## 피처 스케일링 \n",
    "- 이진, 명목형, 날짜 피처는 모두 0과 1로 인코딩했지만 순서형 변수는 여러 값을 갖기 떄문에 0과 1사이의 범위의 값을 갖도록 스케일링을 수행해줘야 함 "
   ]
  },
  {
   "cell_type": "code",
   "execution_count": 13,
   "metadata": {
    "ExecuteTime": {
     "end_time": "2022-06-03T10:53:13.009441Z",
     "start_time": "2022-06-03T10:53:12.891421Z"
    }
   },
   "outputs": [],
   "source": [
    "from sklearn.preprocessing import MinMaxScaler\n",
    "\n",
    "ord_features = ['ord_' + str(i) for i in range(6)] \n",
    "\n",
    "minmax_scaler = MinMaxScaler()\n",
    "\n",
    "all_data[ord_features] = minmax_scaler.fit_transform(all_data[ord_features])\n"
   ]
  },
  {
   "cell_type": "markdown",
   "metadata": {},
   "source": [
    "## 인코딩 및 스케일링된 피처 합치기 "
   ]
  },
  {
   "cell_type": "markdown",
   "metadata": {},
   "source": [
    "all_data는 DataFrame이고 encoded_nom_matrix와 encoded_date_matrix는 CSR 형식의 파일이기 때문에 형식을 맞춰줘야 한다.\n",
    "\n",
    "> all_data를 CSR형식으로 변환(scipy의 `scr_matrix`이용)"
   ]
  },
  {
   "cell_type": "code",
   "execution_count": 14,
   "metadata": {
    "ExecuteTime": {
     "end_time": "2022-06-03T10:53:13.024262Z",
     "start_time": "2022-06-03T10:53:13.013460Z"
    }
   },
   "outputs": [],
   "source": [
    "from scipy import sparse"
   ]
  },
  {
   "cell_type": "code",
   "execution_count": 15,
   "metadata": {
    "ExecuteTime": {
     "end_time": "2022-06-03T10:53:13.368314Z",
     "start_time": "2022-06-03T10:53:13.026230Z"
    }
   },
   "outputs": [],
   "source": [
    "all_data_sprs = sparse.hstack([sparse.csr_matrix(all_data),\n",
    "                               encoded_nom_matrix,\n",
    "                               encoded_date_matrix], format = 'csr')"
   ]
  },
  {
   "cell_type": "markdown",
   "metadata": {},
   "source": [
    "500000 $\\times$ 16306 크기의 데이터를 DataFrame형태로 처리하면 메모리 낭비가 심하고 훈련 속도도 떨어진다. 따라서 CSR 형식의 파일을 그대로 이용"
   ]
  },
  {
   "cell_type": "code",
   "execution_count": 16,
   "metadata": {
    "ExecuteTime": {
     "end_time": "2022-06-03T10:53:13.383338Z",
     "start_time": "2022-06-03T10:53:13.370308Z"
    }
   },
   "outputs": [
    {
     "data": {
      "text/plain": [
       "<500000x16306 sparse matrix of type '<class 'numpy.float64'>'\n",
       "\twith 9163718 stored elements in Compressed Sparse Row format>"
      ]
     },
     "execution_count": 16,
     "metadata": {},
     "output_type": "execute_result"
    }
   ],
   "source": [
    "all_data_sprs"
   ]
  },
  {
   "cell_type": "markdown",
   "metadata": {},
   "source": [
    "## data split "
   ]
  },
  {
   "cell_type": "code",
   "execution_count": 17,
   "metadata": {
    "ExecuteTime": {
     "end_time": "2022-06-03T10:53:13.398236Z",
     "start_time": "2022-06-03T10:53:13.385269Z"
    }
   },
   "outputs": [],
   "source": [
    "import copy"
   ]
  },
  {
   "cell_type": "code",
   "execution_count": 18,
   "metadata": {
    "ExecuteTime": {
     "end_time": "2022-06-03T10:53:13.518451Z",
     "start_time": "2022-06-03T10:53:13.400229Z"
    }
   },
   "outputs": [],
   "source": [
    "X_train = all_data_sprs[:len(train)]\n",
    "X_test = all_data_sprs[len(train):]\n",
    "\n",
    "y = train['target']\n",
    "\n",
    "X_total = copy.deepcopy(X_train)"
   ]
  },
  {
   "cell_type": "markdown",
   "metadata": {},
   "source": [
    "## train/valid split "
   ]
  },
  {
   "cell_type": "code",
   "execution_count": 19,
   "metadata": {
    "ExecuteTime": {
     "end_time": "2022-06-03T10:53:13.893050Z",
     "start_time": "2022-06-03T10:53:13.520380Z"
    }
   },
   "outputs": [],
   "source": [
    "from sklearn.model_selection import train_test_split \n",
    "\n",
    "X_train, X_valid, y_train, y_valid = train_test_split(X_train, y, \n",
    "                                                      test_size = 0.1,\n",
    "                                                      stratify = y,\n",
    "                                                      random_state = 10)"
   ]
  },
  {
   "cell_type": "markdown",
   "metadata": {},
   "source": [
    "## 하이퍼 파라미터 최적화"
   ]
  },
  {
   "cell_type": "code",
   "execution_count": 20,
   "metadata": {
    "ExecuteTime": {
     "end_time": "2022-06-03T10:57:40.965539Z",
     "start_time": "2022-06-03T10:53:13.896318Z"
    }
   },
   "outputs": [
    {
     "name": "stdout",
     "output_type": "stream",
     "text": [
      "Fitting 5 folds for each of 9 candidates, totalling 45 fits\n"
     ]
    },
    {
     "name": "stderr",
     "output_type": "stream",
     "text": [
      "[Parallel(n_jobs=1)]: Using backend SequentialBackend with 1 concurrent workers.\n",
      "[Parallel(n_jobs=1)]: Done  45 out of  45 | elapsed:  4.3min finished\n"
     ]
    },
    {
     "name": "stdout",
     "output_type": "stream",
     "text": [
      "최적 하이퍼 파라미터 : {'C': 0.125, 'max_iter': 700, 'random_state': 42, 'solver': 'liblinear'}\n",
      "Wall time: 4min 27s\n"
     ]
    }
   ],
   "source": [
    "%%time \n",
    "\n",
    "from sklearn.model_selection import GridSearchCV \n",
    "from sklearn.linear_model import LogisticRegression \n",
    "\n",
    "# 모델 생성\n",
    "logistic_model = LogisticRegression()\n",
    "\n",
    "# 하이퍼파라미터 목록\n",
    "lr_params = {'C' : [0.1, 0.125, 0.15], \n",
    "             'max_iter' : [700, 800, 900], \n",
    "             'solver' : ['liblinear'], \n",
    "             'random_state' : [42]}\n",
    "\n",
    "# 그리드서치 객체 생성 \n",
    "gridsearch_logistic_model = GridSearchCV(estimator = logistic_model, \n",
    "                                         param_grid = lr_params, \n",
    "                                         scoring = 'roc_auc', \n",
    "                                         cv = 5, \n",
    "                                         verbose = 1)\n",
    "\n",
    "# 그리드서치 수행 \n",
    "gridsearch_logistic_model.fit(X_train, y_train)\n",
    "\n",
    "print(f'최적 하이퍼 파라미터 : {gridsearch_logistic_model.best_params_}')"
   ]
  },
  {
   "cell_type": "markdown",
   "metadata": {},
   "source": [
    "## 모델 성능 검증 (ROC-AUC)"
   ]
  },
  {
   "cell_type": "code",
   "execution_count": 22,
   "metadata": {
    "ExecuteTime": {
     "end_time": "2022-06-03T10:57:41.010416Z",
     "start_time": "2022-06-03T10:57:40.983490Z"
    }
   },
   "outputs": [
    {
     "name": "stdout",
     "output_type": "stream",
     "text": [
      "valid data ROC-AUC : 0.8045\n"
     ]
    }
   ],
   "source": [
    "y_valid_preds = gridsearch_logistic_model.predict_proba(X_valid)[:, 1]\n",
    "\n",
    "from sklearn.metrics import roc_auc_score\n",
    "\n",
    "roc_auc = roc_auc_score(y_valid, y_valid_preds)\n",
    "\n",
    "print(f'valid data ROC-AUC : {roc_auc:.4f}')"
   ]
  },
  {
   "cell_type": "markdown",
   "metadata": {},
   "source": [
    "# 성능 개선 \n",
    "- valid set이 전체 훈련 데이터의 10%를 차지한다. 이를 검증용으로만 사용하면 그만큼의 데이터를 낭비하는 것이기 때문에 모델링 절차를 그대로 유지한 채로 훈련 데이터 전체를 사용해서 모델을 훈련"
   ]
  },
  {
   "cell_type": "code",
   "execution_count": 27,
   "metadata": {
    "ExecuteTime": {
     "end_time": "2022-06-03T10:59:00.005604Z",
     "start_time": "2022-06-03T10:58:59.986471Z"
    }
   },
   "outputs": [],
   "source": [
    "logistic_model = LogisticRegression(C = 0.125, max_iter = 700, \n",
    "                                    random_state =  42, solver = 'liblinear')\n"
   ]
  },
  {
   "cell_type": "code",
   "execution_count": 30,
   "metadata": {
    "ExecuteTime": {
     "end_time": "2022-06-03T11:00:23.350892Z",
     "start_time": "2022-06-03T11:00:14.667563Z"
    }
   },
   "outputs": [
    {
     "name": "stdout",
     "output_type": "stream",
     "text": [
      "valid data ROC-AUC : 0.8276\n"
     ]
    }
   ],
   "source": [
    "from sklearn.metrics import roc_auc_score\n",
    "\n",
    "logistic_model.fit(X_total, y)\n",
    "\n",
    "y_total_preds = logistic_model.predict_proba(X_total)[:, 1]\n",
    "\n",
    "roc_auc = roc_auc_score(y, y_total_preds)\n",
    "\n",
    "print(f'valid data ROC-AUC : {roc_auc:.4f}')"
   ]
  },
  {
   "cell_type": "code",
   "execution_count": 32,
   "metadata": {
    "ExecuteTime": {
     "end_time": "2022-06-03T11:01:29.471664Z",
     "start_time": "2022-06-03T11:01:28.854614Z"
    }
   },
   "outputs": [],
   "source": [
    "y_preds = logistic_model.predict_proba(X_test)[:, 1]\n",
    "submission['target'] = y_preds\n",
    "submission.to_csv('submission.csv')"
   ]
  },
  {
   "cell_type": "markdown",
   "metadata": {},
   "source": [
    "# 결과"
   ]
  },
  {
   "attachments": {
    "image.png": {
     "image/png": "[encoded data removed]"
    }
   },
   "cell_type": "markdown",
   "metadata": {},
   "source": [
    "![image.png](attachment:image.png)"
   ]
  },
  {
   "attachments": {
    "image.png": {
     "image/png": "[encoded data removed]"
    }
   },
   "cell_type": "markdown",
   "metadata": {},
   "source": [
    "![image.png](attachment:image.png)"
   ]
  },
  {
   "cell_type": "markdown",
   "metadata": {},
   "source": [
    "# LightGBM"
   ]
  },
  {
   "cell_type": "code",
   "execution_count": null,
   "metadata": {
    "ExecuteTime": {
     "start_time": "2022-06-03T11:34:35.900Z"
    }
   },
   "outputs": [
    {
     "name": "stdout",
     "output_type": "stream",
     "text": [
      "Fitting 5 folds for each of 27 candidates, totalling 135 fits\n"
     ]
    },
    {
     "name": "stderr",
     "output_type": "stream",
     "text": [
      "[Parallel(n_jobs=1)]: Using backend SequentialBackend with 1 concurrent workers.\n"
     ]
    }
   ],
   "source": [
    "%%time \n",
    "\n",
    "from sklearn.model_selection import GridSearchCV \n",
    "from lightgbm import LGBMClassifier\n",
    "\n",
    "# 모델 생성\n",
    "lgbm = LGBMClassifier(n_jobs = -1, random_state = 42)\n",
    "\n",
    "# 하이퍼파라미터 목록\n",
    "lgbm_params = {'n_estimators' : [300, 500, 700], \n",
    "             'max_depth' : [5, 8, 10],\n",
    "             'learning_rate' : [0.001, 0.003, 0.01]}\n",
    "\n",
    "# 그리드서치 객체 생성 \n",
    "gridsearch_lgbm_model = GridSearchCV(estimator = lgbm, \n",
    "                                         param_grid = lgbm_params, \n",
    "                                         scoring = 'roc_auc', \n",
    "                                         cv = 5, \n",
    "                                         verbose = 1)\n",
    "\n",
    "# 그리드서치 수행 \n",
    "gridsearch_lgbm_model.fit(X_train, y_train)\n",
    "\n",
    "print(f'최적 하이퍼 파라미터 : {gridsearch_lgbm_model.best_params_}')"
   ]
  },
  {
   "cell_type": "code",
   "execution_count": null,
   "metadata": {
    "ExecuteTime": {
     "start_time": "2022-06-03T11:37:02.364Z"
    }
   },
   "outputs": [],
   "source": [
    "y_valid_preds_lgbm = gridsearch_lgbm_model.predict_proba(X_valid)[:, 1]\n",
    "\n",
    "from sklearn.metrics import roc_auc_score\n",
    "\n",
    "roc_auc = roc_auc_score(y_valid, y_valid_preds_lgbm)\n",
    "\n",
    "print(f'valid data ROC-AUC : {roc_auc:.4f}')"
   ]
  },
  {
   "cell_type": "code",
   "execution_count": null,
   "metadata": {},
   "outputs": [],
   "source": []
  }
 ],
 "metadata": {
  "hide_input": false,
  "kernelspec": {
   "display_name": "Python 3",
   "language": "python",
   "name": "python3"
  },
  "toc": {
   "base_numbering": 1,
   "nav_menu": {},
   "number_sections": true,
   "sideBar": true,
   "skip_h1_title": false,
   "title_cell": "Table of Contents",
   "title_sidebar": "Contents",
   "toc_cell": false,
   "toc_position": {},
   "toc_section_display": true,
   "toc_window_display": true
  },
  "varInspector": {
   "cols": {
    "lenName": 16,
    "lenType": 16,
    "lenVar": 40
   },
   "kernels_config": {
    "python": {
     "delete_cmd_postfix": "",
     "delete_cmd_prefix": "del ",
     "library": "var_list.py",
     "varRefreshCmd": "print(var_dic_list())"
    },
    "r": {
     "delete_cmd_postfix": ") ",
     "delete_cmd_prefix": "rm(",
     "library": "var_list.r",
     "varRefreshCmd": "cat(var_dic_list()) "
    }
   },
   "types_to_exclude": [
    "module",
    "function",
    "builtin_function_or_method",
    "instance",
    "_Feature"
   ],
   "window_display": false
  }
 },
 "nbformat": 4,
 "nbformat_minor": 4
}
