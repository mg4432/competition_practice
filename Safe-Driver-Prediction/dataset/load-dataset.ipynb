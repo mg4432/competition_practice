{
 "cells": [
  {
   "cell_type": "code",
   "execution_count": 1,
   "metadata": {
    "ExecuteTime": {
     "end_time": "2022-06-07T04:28:58.918262Z",
     "start_time": "2022-06-07T04:28:46.763753Z"
    }
   },
   "outputs": [
    {
     "name": "stdout",
     "output_type": "stream",
     "text": [
      "Downloading porto-seguro-safe-driver-prediction.zip to C:\\Users\\ASUS\\python\\kaggle_practice\\Safe-Driver-Prediction\\dataset"
     ]
    },
    {
     "name": "stderr",
     "output_type": "stream",
     "text": [
      "\n",
      "  0%|          | 0.00/76.5M [00:00<?, ?B/s]\n",
      "  1%|1         | 1.00M/76.5M [00:00<00:24, 3.27MB/s]\n",
      "  3%|2         | 2.00M/76.5M [00:00<00:19, 4.08MB/s]\n",
      "  4%|3         | 3.00M/76.5M [00:00<00:17, 4.51MB/s]\n",
      "  7%|6         | 5.00M/76.5M [00:00<00:13, 5.48MB/s]\n",
      "  8%|7         | 6.00M/76.5M [00:00<00:11, 6.36MB/s]\n",
      " 10%|#         | 8.00M/76.5M [00:01<00:12, 5.75MB/s]\n",
      " 13%|#3        | 10.0M/76.5M [00:01<00:10, 6.49MB/s]\n",
      " 16%|#5        | 12.0M/76.5M [00:01<00:08, 7.69MB/s]\n",
      " 18%|#8        | 14.0M/76.5M [00:01<00:07, 8.71MB/s]\n",
      " 21%|##        | 16.0M/76.5M [00:02<00:06, 9.45MB/s]\n",
      " 24%|##3       | 18.0M/76.5M [00:02<00:06, 10.0MB/s]\n",
      " 26%|##6       | 20.0M/76.5M [00:02<00:05, 9.89MB/s]\n",
      " 29%|##8       | 22.0M/76.5M [00:02<00:05, 10.8MB/s]\n",
      " 31%|###1      | 24.0M/76.5M [00:02<00:05, 10.2MB/s]\n",
      " 34%|###3      | 26.0M/76.5M [00:02<00:04, 11.5MB/s]\n",
      " 37%|###6      | 28.0M/76.5M [00:03<00:04, 11.6MB/s]\n",
      " 39%|###9      | 30.0M/76.5M [00:03<00:04, 11.7MB/s]\n",
      " 42%|####1     | 32.0M/76.5M [00:03<00:03, 11.7MB/s]\n",
      " 44%|####4     | 34.0M/76.5M [00:03<00:05, 8.40MB/s]\n",
      " 47%|####7     | 36.0M/76.5M [00:04<00:05, 8.48MB/s]\n",
      " 50%|####9     | 38.0M/76.5M [00:04<00:04, 9.70MB/s]\n",
      " 52%|#####2    | 40.0M/76.5M [00:04<00:03, 10.3MB/s]\n",
      " 55%|#####4    | 42.0M/76.5M [00:04<00:03, 10.3MB/s]\n",
      " 57%|#####7    | 44.0M/76.5M [00:04<00:03, 11.1MB/s]\n",
      " 60%|######    | 46.0M/76.5M [00:05<00:02, 11.3MB/s]\n",
      " 63%|######2   | 48.0M/76.5M [00:05<00:02, 11.5MB/s]\n",
      " 65%|######5   | 50.0M/76.5M [00:05<00:02, 11.6MB/s]\n",
      " 68%|######7   | 52.0M/76.5M [00:05<00:02, 11.6MB/s]\n",
      " 71%|#######   | 54.0M/76.5M [00:05<00:02, 11.7MB/s]\n",
      " 73%|#######3  | 56.0M/76.5M [00:05<00:01, 11.7MB/s]\n",
      " 76%|#######5  | 58.0M/76.5M [00:06<00:01, 11.7MB/s]\n",
      " 78%|#######8  | 60.0M/76.5M [00:06<00:01, 11.7MB/s]\n",
      " 81%|########1 | 62.0M/76.5M [00:06<00:02, 6.78MB/s]\n",
      " 84%|########3 | 64.0M/76.5M [00:07<00:01, 7.40MB/s]\n",
      " 86%|########6 | 66.0M/76.5M [00:07<00:01, 8.76MB/s]\n",
      " 89%|########8 | 68.0M/76.5M [00:07<00:00, 9.45MB/s]\n",
      " 91%|#########1| 70.0M/76.5M [00:07<00:00, 10.0MB/s]\n",
      " 94%|#########4| 72.0M/76.5M [00:07<00:00, 10.5MB/s]\n",
      " 97%|#########6| 74.0M/76.5M [00:07<00:00, 10.7MB/s]\n",
      " 99%|#########9| 76.0M/76.5M [00:08<00:00, 10.9MB/s]\n",
      "100%|##########| 76.5M/76.5M [00:08<00:00, 9.78MB/s]\n"
     ]
    },
    {
     "name": "stdout",
     "output_type": "stream",
     "text": [
      "\n",
      "\n"
     ]
    }
   ],
   "source": [
    "!kaggle competitions download -c porto-seguro-safe-driver-prediction"
   ]
  },
  {
   "cell_type": "code",
   "execution_count": 2,
   "metadata": {
    "ExecuteTime": {
     "end_time": "2022-06-07T04:29:28.570979Z",
     "start_time": "2022-06-07T04:29:25.508165Z"
    }
   },
   "outputs": [
    {
     "name": "stdout",
     "output_type": "stream",
     "text": [
      "Archive:  porto-seguro-safe-driver-prediction.zip\n",
      "  inflating: sample_submission.csv   \n",
      "  inflating: test.csv                \n",
      "  inflating: train.csv               \n"
     ]
    }
   ],
   "source": [
    "!unzip porto-seguro-safe-driver-prediction.zip"
   ]
  },
  {
   "cell_type": "code",
   "execution_count": null,
   "metadata": {},
   "outputs": [],
   "source": []
  }
 ],
 "metadata": {
  "hide_input": false,
  "kernelspec": {
   "display_name": "Python 3",
   "language": "python",
   "name": "python3"
  },
  "language_info": {
   "codemirror_mode": {
    "name": "ipython",
    "version": 3
   },
   "file_extension": ".py",
   "mimetype": "text/x-python",
   "name": "python",
   "nbconvert_exporter": "python",
   "pygments_lexer": "ipython3",
   "version": "3.8.5"
  },
  "toc": {
   "base_numbering": 1,
   "nav_menu": {},
   "number_sections": true,
   "sideBar": true,
   "skip_h1_title": false,
   "title_cell": "Table of Contents",
   "title_sidebar": "Contents",
   "toc_cell": false,
   "toc_position": {},
   "toc_section_display": true,
   "toc_window_display": false
  },
  "varInspector": {
   "cols": {
    "lenName": 16,
    "lenType": 16,
    "lenVar": 40
   },
   "kernels_config": {
    "python": {
     "delete_cmd_postfix": "",
     "delete_cmd_prefix": "del ",
     "library": "var_list.py",
     "varRefreshCmd": "print(var_dic_list())"
    },
    "r": {
     "delete_cmd_postfix": ") ",
     "delete_cmd_prefix": "rm(",
     "library": "var_list.r",
     "varRefreshCmd": "cat(var_dic_list()) "
    }
   },
   "types_to_exclude": [
    "module",
    "function",
    "builtin_function_or_method",
    "instance",
    "_Feature"
   ],
   "window_display": false
  }
 },
 "nbformat": 4,
 "nbformat_minor": 4
}
