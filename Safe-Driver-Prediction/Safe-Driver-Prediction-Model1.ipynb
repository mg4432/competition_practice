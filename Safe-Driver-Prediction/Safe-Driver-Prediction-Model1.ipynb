{
 "cells": [
  {
   "cell_type": "markdown",
   "metadata": {},
   "source": [
    "# Load data"
   ]
  },
  {
   "cell_type": "code",
   "execution_count": 1,
   "metadata": {
    "ExecuteTime": {
     "end_time": "2022-06-07T10:52:17.384675Z",
     "start_time": "2022-06-07T10:52:08.501935Z"
    }
   },
   "outputs": [],
   "source": [
    "import pandas as pd \n",
    "\n",
    "train = pd.read_csv('dataset/train.csv', index_col = 'id')\n",
    "test = pd.read_csv('dataset/test.csv', index_col = 'id')\n",
    "submission = pd.read_csv('dataset/sample_submission.csv', index_col = 'id')"
   ]
  },
  {
   "cell_type": "markdown",
   "metadata": {},
   "source": [
    "# Feature Engineering "
   ]
  },
  {
   "cell_type": "markdown",
   "metadata": {},
   "source": [
    "## concat train/test"
   ]
  },
  {
   "cell_type": "code",
   "execution_count": 2,
   "metadata": {
    "ExecuteTime": {
     "end_time": "2022-06-07T10:52:18.506919Z",
     "start_time": "2022-06-07T10:52:17.387703Z"
    }
   },
   "outputs": [],
   "source": [
    "all_data = pd.concat([train, test], ignore_index = True)\n",
    "all_data = all_data.drop('target', axis = 1)\n",
    "\n",
    "all_features = all_data.columns "
   ]
  },
  {
   "cell_type": "markdown",
   "metadata": {},
   "source": [
    "## 명목형 피처 원-핫 인코딩"
   ]
  },
  {
   "cell_type": "code",
   "execution_count": 3,
   "metadata": {
    "ExecuteTime": {
     "end_time": "2022-06-07T10:52:24.443166Z",
     "start_time": "2022-06-07T10:52:18.511880Z"
    }
   },
   "outputs": [
    {
     "data": {
      "text/plain": [
       "<1488028x184 sparse matrix of type '<class 'numpy.float64'>'\n",
       "\twith 20832392 stored elements in Compressed Sparse Row format>"
      ]
     },
     "execution_count": 3,
     "metadata": {},
     "output_type": "execute_result"
    }
   ],
   "source": [
    "from sklearn.preprocessing import OneHotEncoder \n",
    "\n",
    "# 명목형 피처 추출 \n",
    "cat_features = [feature for feature in all_features if 'cat' in feature]\n",
    "\n",
    "onehot_encoder = OneHotEncoder()\n",
    "\n",
    "# 인코딩\n",
    "encoded_cat_matrix = onehot_encoder.fit_transform(all_data[cat_features])\n",
    "\n",
    "encoded_cat_matrix"
   ]
  },
  {
   "cell_type": "markdown",
   "metadata": {},
   "source": [
    "## 파생 피처 추가"
   ]
  },
  {
   "cell_type": "markdown",
   "metadata": {},
   "source": [
    "### 한 데이터가 가진 결측값 개수"
   ]
  },
  {
   "cell_type": "code",
   "execution_count": 4,
   "metadata": {
    "ExecuteTime": {
     "end_time": "2022-06-07T10:52:24.730849Z",
     "start_time": "2022-06-07T10:52:24.445161Z"
    }
   },
   "outputs": [],
   "source": [
    "all_data['num_missing'] = (all_data == -1).sum(axis = 1)"
   ]
  },
  {
   "cell_type": "markdown",
   "metadata": {},
   "source": [
    "원-핫 인코딩을 수행한 명목형 피처, calc 분류의 피처를 제외한 나머지 피처를 **remaining_features**에 저장"
   ]
  },
  {
   "cell_type": "code",
   "execution_count": 5,
   "metadata": {
    "ExecuteTime": {
     "end_time": "2022-06-07T10:52:24.746361Z",
     "start_time": "2022-06-07T10:52:24.733711Z"
    }
   },
   "outputs": [],
   "source": [
    "remaining_features = [feature for feature in all_features if ('cat' not in feature and \\\n",
    "                                                             'calc' not in feature)]\n",
    "\n",
    "remaining_features.append('num_missing')"
   ]
  },
  {
   "cell_type": "markdown",
   "metadata": {},
   "source": [
    "### ind 분류의 피처 탐색"
   ]
  },
  {
   "cell_type": "markdown",
   "metadata": {},
   "source": [
    "모든 ind 피처 값을 연결해서 새로운 피처 생성 \n",
    "- ps_ind_01~ps_ind_03값이 각각 2, 2, 5라면 2_2_5_와 같은 값을 반환\n",
    "> max_ind라는 변수명으로 생성"
   ]
  },
  {
   "cell_type": "code",
   "execution_count": 6,
   "metadata": {
    "ExecuteTime": {
     "end_time": "2022-06-07T10:52:24.761235Z",
     "start_time": "2022-06-07T10:52:24.749206Z"
    }
   },
   "outputs": [
    {
     "data": {
      "text/plain": [
       "['ps_ind_01',\n",
       " 'ps_ind_02_cat',\n",
       " 'ps_ind_03',\n",
       " 'ps_ind_04_cat',\n",
       " 'ps_ind_05_cat',\n",
       " 'ps_ind_06_bin',\n",
       " 'ps_ind_07_bin',\n",
       " 'ps_ind_08_bin',\n",
       " 'ps_ind_09_bin',\n",
       " 'ps_ind_10_bin',\n",
       " 'ps_ind_11_bin',\n",
       " 'ps_ind_12_bin',\n",
       " 'ps_ind_13_bin',\n",
       " 'ps_ind_14',\n",
       " 'ps_ind_15',\n",
       " 'ps_ind_16_bin',\n",
       " 'ps_ind_17_bin',\n",
       " 'ps_ind_18_bin']"
      ]
     },
     "execution_count": 6,
     "metadata": {},
     "output_type": "execute_result"
    }
   ],
   "source": [
    "[feature for feature in all_features if 'ind' in feature]"
   ]
  },
  {
   "cell_type": "code",
   "execution_count": 7,
   "metadata": {
    "ExecuteTime": {
     "end_time": "2022-06-07T10:52:38.426410Z",
     "start_time": "2022-06-07T10:52:24.763152Z"
    }
   },
   "outputs": [],
   "source": [
    "ind_features = [feature for feature in all_features if 'ind' in feature]\n",
    "\n",
    "is_first_feature = True \n",
    "\n",
    "for ind_feature in ind_features : \n",
    "    if is_first_feature : \n",
    "        all_data['mix_ind'] = all_data[ind_feature].astype(str) + '_'\n",
    "        is_first_feature = False\n",
    "        \n",
    "    else :\n",
    "        all_data['mix_ind'] = all_data['mix_ind'] + all_data[ind_feature].astype(str) + '_'"
   ]
  },
  {
   "cell_type": "code",
   "execution_count": 8,
   "metadata": {
    "ExecuteTime": {
     "end_time": "2022-06-07T10:52:38.456158Z",
     "start_time": "2022-06-07T10:52:38.437730Z"
    }
   },
   "outputs": [
    {
     "data": {
      "text/plain": [
       "0          2_2_5_1_0_0_1_0_0_0_0_0_0_0_11_0_1_0_\n",
       "1           1_1_7_0_0_0_0_1_0_0_0_0_0_0_3_0_0_1_\n",
       "2          5_4_9_1_0_0_0_1_0_0_0_0_0_0_12_1_0_0_\n",
       "3           0_1_2_0_0_1_0_0_0_0_0_0_0_0_8_1_0_0_\n",
       "4           0_2_0_1_0_1_0_0_0_0_0_0_0_0_9_1_0_0_\n",
       "                           ...                  \n",
       "1488023     0_1_6_0_0_0_1_0_0_0_0_0_0_0_2_0_0_1_\n",
       "1488024    5_3_5_1_0_0_0_1_0_0_0_0_0_0_11_1_0_0_\n",
       "1488025     0_1_5_0_0_1_0_0_0_0_0_0_0_0_5_0_0_1_\n",
       "1488026    6_1_5_1_0_0_0_0_1_0_0_0_0_0_13_1_0_0_\n",
       "1488027    7_1_4_1_0_0_0_0_1_0_0_0_0_0_12_1_0_0_\n",
       "Name: mix_ind, Length: 1488028, dtype: object"
      ]
     },
     "execution_count": 8,
     "metadata": {},
     "output_type": "execute_result"
    }
   ],
   "source": [
    "all_data['mix_ind'] "
   ]
  },
  {
   "cell_type": "markdown",
   "metadata": {},
   "source": [
    "### 명목형 피처의 고유값별 개수를 새로운 피처로 추가"
   ]
  },
  {
   "cell_type": "code",
   "execution_count": 9,
   "metadata": {
    "ExecuteTime": {
     "end_time": "2022-06-07T10:52:45.743252Z",
     "start_time": "2022-06-07T10:52:38.460148Z"
    }
   },
   "outputs": [],
   "source": [
    "cat_count_features = [] \n",
    "\n",
    "for feature in cat_features + ['mix_ind'] : \n",
    "    val_counts_dict = all_data[feature].value_counts().to_dict()\n",
    "    all_data[f'{feature}_count'] = all_data[feature].apply(lambda x: val_counts_dict[x])\n",
    "    \n",
    "    cat_count_features.append(f'{feature}_count')"
   ]
  },
  {
   "cell_type": "code",
   "execution_count": 10,
   "metadata": {
    "ExecuteTime": {
     "end_time": "2022-06-07T10:52:45.758084Z",
     "start_time": "2022-06-07T10:52:45.745120Z"
    }
   },
   "outputs": [
    {
     "data": {
      "text/plain": [
       "['ps_ind_02_cat_count',\n",
       " 'ps_ind_04_cat_count',\n",
       " 'ps_ind_05_cat_count',\n",
       " 'ps_car_01_cat_count',\n",
       " 'ps_car_02_cat_count',\n",
       " 'ps_car_03_cat_count',\n",
       " 'ps_car_04_cat_count',\n",
       " 'ps_car_05_cat_count',\n",
       " 'ps_car_06_cat_count',\n",
       " 'ps_car_07_cat_count',\n",
       " 'ps_car_08_cat_count',\n",
       " 'ps_car_09_cat_count',\n",
       " 'ps_car_10_cat_count',\n",
       " 'ps_car_11_cat_count',\n",
       " 'mix_ind_count']"
      ]
     },
     "execution_count": 10,
     "metadata": {},
     "output_type": "execute_result"
    }
   ],
   "source": [
    "# 추가된 변수 목록\n",
    "cat_count_features"
   ]
  },
  {
   "cell_type": "markdown",
   "metadata": {},
   "source": [
    "## 필요없는 피처 제거 "
   ]
  },
  {
   "cell_type": "markdown",
   "metadata": {},
   "source": [
    "### 새롭게 만든 피처 목록"
   ]
  },
  {
   "cell_type": "markdown",
   "metadata": {},
   "source": [
    "- encoded_cat_matrix : 원-핫 인코딩된 명목형 피처\n",
    "- ramaining_features : 명목형 피처와 calc 분ㄹ의 피처를 제외한 피처들 \n",
    "- cat_count_features : mix_ind를 포함한 명목형 피처의 고유값별 개수 파생 피처"
   ]
  },
  {
   "cell_type": "code",
   "execution_count": 11,
   "metadata": {
    "ExecuteTime": {
     "end_time": "2022-06-07T10:52:51.662300Z",
     "start_time": "2022-06-07T10:52:45.759082Z"
    }
   },
   "outputs": [],
   "source": [
    "from scipy import sparse \n",
    "\n",
    "# 필요없는 피처들 \n",
    "drop_features = ['ps_ind_14', 'ps_ind_10_bin', 'ps_ind_11_bin', \n",
    "                 'ps_ind_12_bin', 'ps_ind_13_bin', 'ps_car_14']\n",
    "\n",
    "# remaining_featurem, cat_count_features에서 drop_feature를 제거 \n",
    "all_data_remaining = all_data[remaining_features + cat_count_features].drop(drop_features, \n",
    "                                                                            axis = 1)\n",
    "\n",
    "# 데이터 합치기\n",
    "all_data_sprs = sparse.hstack([sparse.csr_matrix(all_data_remaining),\n",
    "                               encoded_cat_matrix], format = 'csr')"
   ]
  },
  {
   "cell_type": "code",
   "execution_count": 12,
   "metadata": {
    "ExecuteTime": {
     "end_time": "2022-06-07T10:52:51.858105Z",
     "start_time": "2022-06-07T10:52:51.696042Z"
    }
   },
   "outputs": [
    {
     "data": {
      "text/plain": [
       "0          2_2_5_1_0_0_1_0_0_0_0_0_0_0_11_0_1_0_\n",
       "1           1_1_7_0_0_0_0_1_0_0_0_0_0_0_3_0_0_1_\n",
       "2          5_4_9_1_0_0_0_1_0_0_0_0_0_0_12_1_0_0_\n",
       "3           0_1_2_0_0_1_0_0_0_0_0_0_0_0_8_1_0_0_\n",
       "4           0_2_0_1_0_1_0_0_0_0_0_0_0_0_9_1_0_0_\n",
       "                           ...                  \n",
       "1488023     0_1_6_0_0_0_1_0_0_0_0_0_0_0_2_0_0_1_\n",
       "1488024    5_3_5_1_0_0_0_1_0_0_0_0_0_0_11_1_0_0_\n",
       "1488025     0_1_5_0_0_1_0_0_0_0_0_0_0_0_5_0_0_1_\n",
       "1488026    6_1_5_1_0_0_0_0_1_0_0_0_0_0_13_1_0_0_\n",
       "1488027    7_1_4_1_0_0_0_0_1_0_0_0_0_0_12_1_0_0_\n",
       "Name: mix_ind, Length: 1488028, dtype: object"
      ]
     },
     "execution_count": 12,
     "metadata": {},
     "output_type": "execute_result"
    }
   ],
   "source": [
    "all_data['mix_ind']"
   ]
  },
  {
   "cell_type": "markdown",
   "metadata": {},
   "source": [
    "## split data"
   ]
  },
  {
   "cell_type": "code",
   "execution_count": 13,
   "metadata": {
    "ExecuteTime": {
     "end_time": "2022-06-07T10:52:52.516677Z",
     "start_time": "2022-06-07T10:52:51.860101Z"
    }
   },
   "outputs": [],
   "source": [
    "num_train = len(train)\n",
    "\n",
    "X = all_data_sprs[:num_train]\n",
    "X_test = all_data_sprs[num_train:]\n",
    "\n",
    "y = train['target'].values"
   ]
  },
  {
   "cell_type": "markdown",
   "metadata": {},
   "source": [
    "## 정규화 지니계수 계산 함수 구현"
   ]
  },
  {
   "cell_type": "code",
   "execution_count": 14,
   "metadata": {
    "ExecuteTime": {
     "end_time": "2022-06-07T10:52:52.531578Z",
     "start_time": "2022-06-07T10:52:52.518580Z"
    }
   },
   "outputs": [],
   "source": [
    "def eval_gini(y_true, y_pred) : \n",
    "    # 실제값과 예측값의 크기가 서로 같은지 확인(다르면 에러 발생)\n",
    "    assert y_true.shape == y_pred.shape\n",
    "    \n",
    "    # 데이터 개수\n",
    "    n_samples = y_true.shape[0]\n",
    "    # 대각선 값 \n",
    "    L_mid = np.linspace(1/n_samples, 1, n_samples)\n",
    "    \n",
    "    # 1. 예측값에 대한 지니계수\n",
    "    pred_order = y_true[y_pred.argsort()]\n",
    "    L_pred = np.cumsum(pred_order) / np.sum(pred_order)\n",
    "    G_pred = np.sum(L_mid - L_pred)\n",
    "    \n",
    "    # 2. 예측이 완벽할 때 지니계수\n",
    "    true_order = y_true[y_true.argsort()]\n",
    "    L_true = np.cumsum(true_order) / np.sum(true_order)\n",
    "    G_true = np.sum(L_mid - L_true)\n",
    "    \n",
    "    # 정규화된 지니계수\n",
    "    return G_pred / G_true"
   ]
  },
  {
   "cell_type": "markdown",
   "metadata": {},
   "source": [
    "**모델 훈련 시 검증 파라미터에 전달하기 위한 함수**"
   ]
  },
  {
   "cell_type": "code",
   "execution_count": 15,
   "metadata": {
    "ExecuteTime": {
     "end_time": "2022-06-07T10:52:52.546576Z",
     "start_time": "2022-06-07T10:52:52.533572Z"
    }
   },
   "outputs": [],
   "source": [
    "# LGBM용 gini() 함수\n",
    "def gini(preds, dtrain) : \n",
    "    labels = dtrain.get_label()\n",
    "     # 마지막 True는 값이 클수록 성능이 좋은지의 여부\n",
    "    return 'gini', eval_gini(labels, preds), True"
   ]
  },
  {
   "cell_type": "markdown",
   "metadata": {},
   "source": [
    "# 하이퍼 파라미터 최적화"
   ]
  },
  {
   "cell_type": "markdown",
   "metadata": {},
   "source": [
    "## dataset "
   ]
  },
  {
   "cell_type": "code",
   "execution_count": 16,
   "metadata": {
    "ExecuteTime": {
     "end_time": "2022-06-07T10:52:55.139032Z",
     "start_time": "2022-06-07T10:52:52.548500Z"
    }
   },
   "outputs": [
    {
     "name": "stderr",
     "output_type": "stream",
     "text": [
      "C:\\ProgramData\\Anaconda3\\lib\\site-packages\\dask\\dataframe\\utils.py:367: FutureWarning: pandas.Int64Index is deprecated and will be removed from pandas in a future version. Use pandas.Index with the appropriate dtype instead.\n",
      "  _numeric_index_types = (pd.Int64Index, pd.Float64Index, pd.UInt64Index)\n",
      "C:\\ProgramData\\Anaconda3\\lib\\site-packages\\dask\\dataframe\\utils.py:367: FutureWarning: pandas.Float64Index is deprecated and will be removed from pandas in a future version. Use pandas.Index with the appropriate dtype instead.\n",
      "  _numeric_index_types = (pd.Int64Index, pd.Float64Index, pd.UInt64Index)\n",
      "C:\\ProgramData\\Anaconda3\\lib\\site-packages\\dask\\dataframe\\utils.py:367: FutureWarning: pandas.UInt64Index is deprecated and will be removed from pandas in a future version. Use pandas.Index with the appropriate dtype instead.\n",
      "  _numeric_index_types = (pd.Int64Index, pd.Float64Index, pd.UInt64Index)\n"
     ]
    }
   ],
   "source": [
    "import lightgbm as lgb \n",
    "from sklearn.model_selection import train_test_split \n",
    "\n",
    "X_train, X_valid, y_train, y_valid = \\\n",
    "train_test_split(X, y, test_size = 0.2, random_state = 0)\n",
    "\n",
    "# 베이지안 최적화용 데이터셋 \n",
    "bayes_dtrain = lgb.Dataset(X_train, y_train)\n",
    "bayes_dvalid = lgb.Dataset(X_valid, y_valid)"
   ]
  },
  {
   "cell_type": "markdown",
   "metadata": {},
   "source": [
    "하이퍼 파라미터의 범위를 지정, 값을 고정할 파라미터는 fixed_params에 저장 "
   ]
  },
  {
   "cell_type": "code",
   "execution_count": 17,
   "metadata": {
    "ExecuteTime": {
     "end_time": "2022-06-07T10:52:55.153808Z",
     "start_time": "2022-06-07T10:52:55.141837Z"
    }
   },
   "outputs": [],
   "source": [
    "param_bounds = {'num_leaves' : (30, 40), \n",
    "                'lambda_l1' : (0.7, 0.9),\n",
    "                'lambda_l2' : (0.9, 1),\n",
    "                'feature_fraction' : (0.6, 0.7),\n",
    "                'bagging_fraction' : (0.6, 0.9),\n",
    "                'min_child_samples' : (6, 10), \n",
    "                'min_child_weight' : (10, 40)}\n",
    "\n",
    "fixed_params = {'objective' : 'binary' ,\n",
    "                'learning_rate' : 0.005,\n",
    "                'bagging_freq' : 1, \n",
    "                'force_row_wise' : True,\n",
    "                'random_state' : 1991}"
   ]
  },
  {
   "cell_type": "markdown",
   "metadata": {},
   "source": [
    "**베이지안 최적화용 평가지표 계산 함수**"
   ]
  },
  {
   "cell_type": "code",
   "execution_count": 18,
   "metadata": {
    "ExecuteTime": {
     "end_time": "2022-06-07T10:52:55.168764Z",
     "start_time": "2022-06-07T10:52:55.156797Z"
    }
   },
   "outputs": [],
   "source": [
    "def eval_function(num_leaves, lambda_l1, lambda_l2, feature_fraction,\n",
    "                  bagging_fraction, min_child_samples, min_child_weight) : \n",
    "    \n",
    "    # 베이지안 최적화를 수행할 하이퍼 파라미터 \n",
    "    params = {'num_leaves' : int(round(num_leaves)), \n",
    "                'lambda_l1' : lambda_l1,\n",
    "                'lambda_l2' : lambda_l2,\n",
    "                'feature_fraction' : feature_fraction,\n",
    "                'bagging_fraction' : bagging_fraction,\n",
    "                'min_child_samples' : int(round(min_child_samples)), \n",
    "                'min_child_weight' : min_child_weight,\n",
    "                'feature_pre_filter' : False}\n",
    "    \n",
    "    # 고정된 하이퍼 파라미터\n",
    "    params.update(fixed_params)\n",
    "    \n",
    "    print('Hyper parameter : ', params)\n",
    "    \n",
    "    # LGBM 훈련 \n",
    "    lgb_model = lgb.train(params = params,\n",
    "                          train_set = bayes_dtrain,\n",
    "                          num_boost_round = 2500, \n",
    "                          valid_sets = bayes_dvalid,\n",
    "                          feval = gini, \n",
    "                          early_stopping_rounds = 300,\n",
    "                          verbose_eval = False)\n",
    "    \n",
    "    # 검증 데이터로 예측 수행 \n",
    "    preds = lgb_model.predict(X_valid)\n",
    "    \n",
    "    # 지니계수\n",
    "    gini_score = eval_gini(y_valid, preds)\n",
    "    print(f'지니계수 : {gini_score}\\n')\n",
    "    \n",
    "    return gini_score"
   ]
  },
  {
   "cell_type": "markdown",
   "metadata": {},
   "source": [
    "## 최적화 수행 "
   ]
  },
  {
   "cell_type": "code",
   "execution_count": 19,
   "metadata": {
    "ExecuteTime": {
     "end_time": "2022-06-07T10:52:55.228672Z",
     "start_time": "2022-06-07T10:52:55.171876Z"
    },
    "scrolled": true
   },
   "outputs": [],
   "source": [
    "from bayes_opt import BayesianOptimization\n",
    "\n",
    "optimizer = BayesianOptimization(f = eval_function, \n",
    "                                 pbounds = param_bounds,\n",
    "                                 random_state = 0)"
   ]
  },
  {
   "cell_type": "code",
   "execution_count": 20,
   "metadata": {
    "ExecuteTime": {
     "end_time": "2022-06-07T11:14:10.788701Z",
     "start_time": "2022-06-07T10:52:55.230599Z"
    }
   },
   "outputs": [
    {
     "name": "stdout",
     "output_type": "stream",
     "text": [
      "|   iter    |  target   | baggin... | featur... | lambda_l1 | lambda_l2 | min_ch... | min_ch... | num_le... |\n",
      "-------------------------------------------------------------------------------------------------------------\n",
      "Hyper parameter :  {'num_leaves': 34, 'lambda_l1': 0.8205526752143287, 'lambda_l2': 0.9544883182996897, 'feature_fraction': 0.6715189366372419, 'bagging_fraction': 0.7646440511781974, 'min_child_samples': 8, 'min_child_weight': 29.376823391999682, 'feature_pre_filter': False, 'objective': 'binary', 'learning_rate': 0.005, 'bagging_freq': 1, 'force_row_wise': True, 'random_state': 1991}\n",
      "[LightGBM] [Info] Number of positive: 17383, number of negative: 458786\n",
      "[LightGBM] [Info] Total Bins 1555\n",
      "[LightGBM] [Info] Number of data points in the train set: 476169, number of used features: 217\n",
      "[LightGBM] [Info] [binary:BoostFromScore]: pavg=0.036506 -> initscore=-3.273091\n",
      "[LightGBM] [Info] Start training from score -3.273091\n",
      "지니계수 : 0.2855811556220905\n",
      "\n",
      "| \u001b[0m 1       \u001b[0m | \u001b[0m 0.2856  \u001b[0m | \u001b[0m 0.7646  \u001b[0m | \u001b[0m 0.6715  \u001b[0m | \u001b[0m 0.8206  \u001b[0m | \u001b[0m 0.9545  \u001b[0m | \u001b[0m 7.695   \u001b[0m | \u001b[0m 29.38   \u001b[0m | \u001b[0m 34.38   \u001b[0m |\n",
      "Hyper parameter :  {'num_leaves': 39, 'lambda_l1': 0.7766883037651555, 'lambda_l2': 0.9791725038082665, 'feature_fraction': 0.6963662760501029, 'bagging_fraction': 0.867531900234624, 'min_child_samples': 8, 'min_child_weight': 27.04133683281797, 'feature_pre_filter': False, 'objective': 'binary', 'learning_rate': 0.005, 'bagging_freq': 1, 'force_row_wise': True, 'random_state': 1991}\n",
      "[LightGBM] [Info] Number of positive: 17383, number of negative: 458786\n",
      "[LightGBM] [Info] Total Bins 1555\n",
      "[LightGBM] [Info] Number of data points in the train set: 476169, number of used features: 217\n",
      "[LightGBM] [Info] [binary:BoostFromScore]: pavg=0.036506 -> initscore=-3.273091\n",
      "[LightGBM] [Info] Start training from score -3.273091\n",
      "지니계수 : 0.2837380537005777\n",
      "\n",
      "| \u001b[0m 2       \u001b[0m | \u001b[0m 0.2837  \u001b[0m | \u001b[0m 0.8675  \u001b[0m | \u001b[0m 0.6964  \u001b[0m | \u001b[0m 0.7767  \u001b[0m | \u001b[0m 0.9792  \u001b[0m | \u001b[0m 8.116   \u001b[0m | \u001b[0m 27.04   \u001b[0m | \u001b[0m 39.26   \u001b[0m |\n",
      "Hyper parameter :  {'num_leaves': 40, 'lambda_l1': 0.7040436794880651, 'lambda_l2': 0.9832619845547939, 'feature_fraction': 0.608712929970154, 'bagging_fraction': 0.6213108174593661, 'min_child_samples': 9, 'min_child_weight': 36.10036444740457, 'feature_pre_filter': False, 'objective': 'binary', 'learning_rate': 0.005, 'bagging_freq': 1, 'force_row_wise': True, 'random_state': 1991}\n",
      "[LightGBM] [Info] Number of positive: 17383, number of negative: 458786\n",
      "[LightGBM] [Info] Total Bins 1555\n",
      "[LightGBM] [Info] Number of data points in the train set: 476169, number of used features: 217\n",
      "[LightGBM] [Info] [binary:BoostFromScore]: pavg=0.036506 -> initscore=-3.273091\n",
      "[LightGBM] [Info] Start training from score -3.273091\n",
      "지니계수 : 0.2857848354322048\n",
      "\n",
      "| \u001b[95m 3       \u001b[0m | \u001b[95m 0.2858  \u001b[0m | \u001b[95m 0.6213  \u001b[0m | \u001b[95m 0.6087  \u001b[0m | \u001b[95m 0.704   \u001b[0m | \u001b[95m 0.9833  \u001b[0m | \u001b[95m 9.113   \u001b[0m | \u001b[95m 36.1    \u001b[0m | \u001b[95m 39.79   \u001b[0m |\n",
      "Hyper parameter :  {'num_leaves': 30, 'lambda_l1': 0.8444997594874222, 'lambda_l2': 0.9234023852202012, 'feature_fraction': 0.6593983245038058, 'bagging_fraction': 0.8977977822397395, 'min_child_samples': 9, 'min_child_weight': 10.549362495448534, 'feature_pre_filter': False, 'objective': 'binary', 'learning_rate': 0.005, 'bagging_freq': 1, 'force_row_wise': True, 'random_state': 1991}\n",
      "[LightGBM] [Info] Number of positive: 17383, number of negative: 458786\n",
      "[LightGBM] [Info] Total Bins 1555\n",
      "[LightGBM] [Info] Number of data points in the train set: 476169, number of used features: 217\n",
      "[LightGBM] [Info] [binary:BoostFromScore]: pavg=0.036506 -> initscore=-3.273091\n",
      "[LightGBM] [Info] Start training from score -3.273091\n",
      "지니계수 : 0.2828993761731121\n",
      "\n",
      "| \u001b[0m 4       \u001b[0m | \u001b[0m 0.2829  \u001b[0m | \u001b[0m 0.8978  \u001b[0m | \u001b[0m 0.6594  \u001b[0m | \u001b[0m 0.8445  \u001b[0m | \u001b[0m 0.9234  \u001b[0m | \u001b[0m 8.619   \u001b[0m | \u001b[0m 10.55   \u001b[0m | \u001b[0m 30.09   \u001b[0m |\n",
      "Hyper parameter :  {'num_leaves': 37, 'lambda_l1': 0.7738449330497988, 'lambda_l2': 0.9032695189818599, 'feature_fraction': 0.6606341064409726, 'bagging_fraction': 0.7666713964943057, 'min_child_samples': 9, 'min_child_weight': 29.306172421380474, 'feature_pre_filter': False, 'objective': 'binary', 'learning_rate': 0.005, 'bagging_freq': 1, 'force_row_wise': True, 'random_state': 1991}\n",
      "[LightGBM] [Info] Number of positive: 17383, number of negative: 458786\n",
      "[LightGBM] [Info] Total Bins 1555\n",
      "[LightGBM] [Info] Number of data points in the train set: 476169, number of used features: 217\n",
      "[LightGBM] [Info] [binary:BoostFromScore]: pavg=0.036506 -> initscore=-3.273091\n",
      "[LightGBM] [Info] Start training from score -3.273091\n",
      "지니계수 : 0.28513273331754563\n",
      "\n",
      "| \u001b[0m 5       \u001b[0m | \u001b[0m 0.2851  \u001b[0m | \u001b[0m 0.7667  \u001b[0m | \u001b[0m 0.6606  \u001b[0m | \u001b[0m 0.7738  \u001b[0m | \u001b[0m 0.9033  \u001b[0m | \u001b[0m 8.769   \u001b[0m | \u001b[0m 29.31   \u001b[0m | \u001b[0m 36.6    \u001b[0m |\n",
      "Hyper parameter :  {'num_leaves': 33, 'lambda_l1': 0.8782264001504803, 'lambda_l2': 0.9, 'feature_fraction': 0.6121029011087349, 'bagging_fraction': 0.6614752690688418, 'min_child_samples': 10, 'min_child_weight': 35.865501604295524, 'feature_pre_filter': False, 'objective': 'binary', 'learning_rate': 0.005, 'bagging_freq': 1, 'force_row_wise': True, 'random_state': 1991}\n",
      "[LightGBM] [Info] Number of positive: 17383, number of negative: 458786\n",
      "[LightGBM] [Info] Total Bins 1555\n",
      "[LightGBM] [Info] Number of data points in the train set: 476169, number of used features: 217\n",
      "[LightGBM] [Info] [binary:BoostFromScore]: pavg=0.036506 -> initscore=-3.273091\n",
      "[LightGBM] [Info] Start training from score -3.273091\n",
      "지니계수 : 0.2855032922002097\n",
      "\n",
      "| \u001b[0m 6       \u001b[0m | \u001b[0m 0.2855  \u001b[0m | \u001b[0m 0.6615  \u001b[0m | \u001b[0m 0.6121  \u001b[0m | \u001b[0m 0.8782  \u001b[0m | \u001b[0m 0.9     \u001b[0m | \u001b[0m 9.785   \u001b[0m | \u001b[0m 35.87   \u001b[0m | \u001b[0m 32.8    \u001b[0m |\n",
      "Hyper parameter :  {'num_leaves': 37, 'lambda_l1': 0.9, 'lambda_l2': 0.9, 'feature_fraction': 0.7, 'bagging_fraction': 0.9, 'min_child_samples': 6, 'min_child_weight': 40.0, 'feature_pre_filter': False, 'objective': 'binary', 'learning_rate': 0.005, 'bagging_freq': 1, 'force_row_wise': True, 'random_state': 1991}\n",
      "[LightGBM] [Info] Number of positive: 17383, number of negative: 458786\n",
      "[LightGBM] [Info] Total Bins 1555\n",
      "[LightGBM] [Info] Number of data points in the train set: 476169, number of used features: 217\n",
      "[LightGBM] [Info] [binary:BoostFromScore]: pavg=0.036506 -> initscore=-3.273091\n",
      "[LightGBM] [Info] Start training from score -3.273091\n",
      "지니계수 : 0.28407383768564237\n",
      "\n",
      "| \u001b[0m 7       \u001b[0m | \u001b[0m 0.2841  \u001b[0m | \u001b[0m 0.9     \u001b[0m | \u001b[0m 0.7     \u001b[0m | \u001b[0m 0.9     \u001b[0m | \u001b[0m 0.9     \u001b[0m | \u001b[0m 6.0     \u001b[0m | \u001b[0m 40.0    \u001b[0m | \u001b[0m 37.4    \u001b[0m |\n",
      "Hyper parameter :  {'num_leaves': 30, 'lambda_l1': 0.7827692600008641, 'lambda_l2': 0.9, 'feature_fraction': 0.6770737652080158, 'bagging_fraction': 0.6, 'min_child_samples': 10, 'min_child_weight': 30.715595866216372, 'feature_pre_filter': False, 'objective': 'binary', 'learning_rate': 0.005, 'bagging_freq': 1, 'force_row_wise': True, 'random_state': 1991}\n",
      "[LightGBM] [Info] Number of positive: 17383, number of negative: 458786\n",
      "[LightGBM] [Info] Total Bins 1555\n",
      "[LightGBM] [Info] Number of data points in the train set: 476169, number of used features: 217\n",
      "[LightGBM] [Info] [binary:BoostFromScore]: pavg=0.036506 -> initscore=-3.273091\n",
      "[LightGBM] [Info] Start training from score -3.273091\n",
      "지니계수 : 0.2854082111604244\n",
      "\n",
      "| \u001b[0m 8       \u001b[0m | \u001b[0m 0.2854  \u001b[0m | \u001b[0m 0.6     \u001b[0m | \u001b[0m 0.6771  \u001b[0m | \u001b[0m 0.7828  \u001b[0m | \u001b[0m 0.9     \u001b[0m | \u001b[0m 10.0    \u001b[0m | \u001b[0m 30.72   \u001b[0m | \u001b[0m 30.0    \u001b[0m |\n",
      "Hyper parameter :  {'num_leaves': 36, 'lambda_l1': 0.7, 'lambda_l2': 1.0, 'feature_fraction': 0.7, 'bagging_fraction': 0.9, 'min_child_samples': 10, 'min_child_weight': 33.56437991057929, 'feature_pre_filter': False, 'objective': 'binary', 'learning_rate': 0.005, 'bagging_freq': 1, 'force_row_wise': True, 'random_state': 1991}\n",
      "[LightGBM] [Info] Number of positive: 17383, number of negative: 458786\n",
      "[LightGBM] [Info] Total Bins 1555\n",
      "[LightGBM] [Info] Number of data points in the train set: 476169, number of used features: 217\n",
      "[LightGBM] [Info] [binary:BoostFromScore]: pavg=0.036506 -> initscore=-3.273091\n",
      "[LightGBM] [Info] Start training from score -3.273091\n"
     ]
    },
    {
     "name": "stdout",
     "output_type": "stream",
     "text": [
      "지니계수 : 0.28396673100103603\n",
      "\n",
      "| \u001b[0m 9       \u001b[0m | \u001b[0m 0.284   \u001b[0m | \u001b[0m 0.9     \u001b[0m | \u001b[0m 0.7     \u001b[0m | \u001b[0m 0.7     \u001b[0m | \u001b[0m 1.0     \u001b[0m | \u001b[0m 10.0    \u001b[0m | \u001b[0m 33.56   \u001b[0m | \u001b[0m 36.32   \u001b[0m |\n",
      "=============================================================================================================\n"
     ]
    }
   ],
   "source": [
    "optimizer.maximize(init_points = 3, n_iter = 6)"
   ]
  },
  {
   "cell_type": "markdown",
   "metadata": {},
   "source": [
    "## 결과"
   ]
  },
  {
   "cell_type": "code",
   "execution_count": 21,
   "metadata": {
    "ExecuteTime": {
     "end_time": "2022-06-07T11:36:59.796776Z",
     "start_time": "2022-06-07T11:36:59.738960Z"
    }
   },
   "outputs": [
    {
     "data": {
      "text/plain": [
       "{'bagging_fraction': 0.6213108174593661,\n",
       " 'feature_fraction': 0.608712929970154,\n",
       " 'lambda_l1': 0.7040436794880651,\n",
       " 'lambda_l2': 0.9832619845547939,\n",
       " 'min_child_samples': 9.112627003799401,\n",
       " 'min_child_weight': 36.10036444740457,\n",
       " 'num_leaves': 39.78618342232764}"
      ]
     },
     "execution_count": 21,
     "metadata": {},
     "output_type": "execute_result"
    }
   ],
   "source": [
    "max_params = optimizer.max['params']\n",
    "max_params"
   ]
  },
  {
   "cell_type": "code",
   "execution_count": 22,
   "metadata": {
    "ExecuteTime": {
     "end_time": "2022-06-07T11:37:49.914082Z",
     "start_time": "2022-06-07T11:37:49.897028Z"
    }
   },
   "outputs": [],
   "source": [
    "# 정수형 하이퍼파라미터 변환 \n",
    "max_params['num_leaves'] = int(round(max_params['num_leaves']))\n",
    "max_params['min_child_samples'] = int(round(max_params['min_child_samples']))"
   ]
  },
  {
   "cell_type": "code",
   "execution_count": 23,
   "metadata": {
    "ExecuteTime": {
     "end_time": "2022-06-07T11:38:44.393447Z",
     "start_time": "2022-06-07T11:38:44.372507Z"
    }
   },
   "outputs": [
    {
     "data": {
      "text/plain": [
       "{'bagging_fraction': 0.6213108174593661,\n",
       " 'feature_fraction': 0.608712929970154,\n",
       " 'lambda_l1': 0.7040436794880651,\n",
       " 'lambda_l2': 0.9832619845547939,\n",
       " 'min_child_samples': 9,\n",
       " 'min_child_weight': 36.10036444740457,\n",
       " 'num_leaves': 40,\n",
       " 'objective': 'binary',\n",
       " 'learning_rate': 0.005,\n",
       " 'bagging_freq': 1,\n",
       " 'force_row_wise': True,\n",
       " 'random_state': 1991}"
      ]
     },
     "execution_count": 23,
     "metadata": {},
     "output_type": "execute_result"
    }
   ],
   "source": [
    "# 고정된 하이퍼파라미트 추가\n",
    "max_params.update(fixed_params)\n",
    "max_params"
   ]
  },
  {
   "cell_type": "markdown",
   "metadata": {},
   "source": [
    "# 모델 훈련 및 검증 "
   ]
  },
  {
   "cell_type": "code",
   "execution_count": 27,
   "metadata": {
    "ExecuteTime": {
     "end_time": "2022-06-07T12:31:08.362373Z",
     "start_time": "2022-06-07T12:05:24.791188Z"
    },
    "scrolled": false
   },
   "outputs": [
    {
     "name": "stdout",
     "output_type": "stream",
     "text": [
      "######################################## Fold 1 / Fold 5 ########################################\n",
      "[LightGBM] [Info] Number of positive: 17355, number of negative: 458814\n",
      "[LightGBM] [Info] Total Bins 1554\n",
      "[LightGBM] [Info] Number of data points in the train set: 476169, number of used features: 216\n",
      "[LightGBM] [Info] [binary:BoostFromScore]: pavg=0.036447 -> initscore=-3.274764\n",
      "[LightGBM] [Info] Start training from score -3.274764\n",
      "Training until validation scores don't improve for 300 rounds\n",
      "[100]\tvalid_0's binary_logloss: 0.154239\tvalid_0's gini: 0.270944\n",
      "[200]\tvalid_0's binary_logloss: 0.153176\tvalid_0's gini: 0.275764\n",
      "[300]\tvalid_0's binary_logloss: 0.152584\tvalid_0's gini: 0.279501\n",
      "[400]\tvalid_0's binary_logloss: 0.152222\tvalid_0's gini: 0.282893\n",
      "[500]\tvalid_0's binary_logloss: 0.151986\tvalid_0's gini: 0.286058\n",
      "[600]\tvalid_0's binary_logloss: 0.151824\tvalid_0's gini: 0.288805\n",
      "[700]\tvalid_0's binary_logloss: 0.151712\tvalid_0's gini: 0.290719\n",
      "[800]\tvalid_0's binary_logloss: 0.151622\tvalid_0's gini: 0.292581\n",
      "[900]\tvalid_0's binary_logloss: 0.151552\tvalid_0's gini: 0.294212\n",
      "[1000]\tvalid_0's binary_logloss: 0.151505\tvalid_0's gini: 0.295204\n",
      "[1100]\tvalid_0's binary_logloss: 0.151471\tvalid_0's gini: 0.295909\n",
      "[1200]\tvalid_0's binary_logloss: 0.151438\tvalid_0's gini: 0.296721\n",
      "[1300]\tvalid_0's binary_logloss: 0.151414\tvalid_0's gini: 0.297335\n",
      "[1400]\tvalid_0's binary_logloss: 0.151402\tvalid_0's gini: 0.297569\n",
      "[1500]\tvalid_0's binary_logloss: 0.15139\tvalid_0's gini: 0.297881\n",
      "[1600]\tvalid_0's binary_logloss: 0.151382\tvalid_0's gini: 0.298033\n",
      "[1700]\tvalid_0's binary_logloss: 0.151376\tvalid_0's gini: 0.298238\n",
      "[1800]\tvalid_0's binary_logloss: 0.151372\tvalid_0's gini: 0.298342\n",
      "[1900]\tvalid_0's binary_logloss: 0.151369\tvalid_0's gini: 0.298371\n",
      "[2000]\tvalid_0's binary_logloss: 0.151371\tvalid_0's gini: 0.298222\n",
      "[2100]\tvalid_0's binary_logloss: 0.151362\tvalid_0's gini: 0.298463\n",
      "[2200]\tvalid_0's binary_logloss: 0.151359\tvalid_0's gini: 0.298466\n",
      "[2300]\tvalid_0's binary_logloss: 0.151362\tvalid_0's gini: 0.298415\n",
      "[2400]\tvalid_0's binary_logloss: 0.151359\tvalid_0's gini: 0.298569\n",
      "[2500]\tvalid_0's binary_logloss: 0.151361\tvalid_0's gini: 0.298542\n",
      "Did not meet early stopping. Best iteration is:\n",
      "[2458]\tvalid_0's binary_logloss: 0.151355\tvalid_0's gini: 0.29865\n",
      "Fold 1 Gini Coef. : 0.2986504843987991\n",
      "\n",
      "######################################## Fold 2 / Fold 5 ########################################\n",
      "[LightGBM] [Info] Number of positive: 17355, number of negative: 458814\n",
      "[LightGBM] [Info] Total Bins 1560\n",
      "[LightGBM] [Info] Number of data points in the train set: 476169, number of used features: 216\n",
      "[LightGBM] [Info] [binary:BoostFromScore]: pavg=0.036447 -> initscore=-3.274764\n",
      "[LightGBM] [Info] Start training from score -3.274764\n",
      "Training until validation scores don't improve for 300 rounds\n",
      "[100]\tvalid_0's binary_logloss: 0.154347\tvalid_0's gini: 0.258575\n",
      "[200]\tvalid_0's binary_logloss: 0.153338\tvalid_0's gini: 0.263768\n",
      "[300]\tvalid_0's binary_logloss: 0.152804\tvalid_0's gini: 0.267635\n",
      "[400]\tvalid_0's binary_logloss: 0.152483\tvalid_0's gini: 0.271009\n",
      "[500]\tvalid_0's binary_logloss: 0.152299\tvalid_0's gini: 0.27324\n",
      "[600]\tvalid_0's binary_logloss: 0.152157\tvalid_0's gini: 0.275756\n",
      "[700]\tvalid_0's binary_logloss: 0.15206\tvalid_0's gini: 0.277655\n",
      "[800]\tvalid_0's binary_logloss: 0.151986\tvalid_0's gini: 0.279371\n",
      "[900]\tvalid_0's binary_logloss: 0.151942\tvalid_0's gini: 0.280359\n",
      "[1000]\tvalid_0's binary_logloss: 0.151898\tvalid_0's gini: 0.281475\n",
      "[1100]\tvalid_0's binary_logloss: 0.15186\tvalid_0's gini: 0.282482\n",
      "[1200]\tvalid_0's binary_logloss: 0.151835\tvalid_0's gini: 0.283198\n",
      "[1300]\tvalid_0's binary_logloss: 0.15181\tvalid_0's gini: 0.283848\n",
      "[1400]\tvalid_0's binary_logloss: 0.151796\tvalid_0's gini: 0.284221\n",
      "[1500]\tvalid_0's binary_logloss: 0.151781\tvalid_0's gini: 0.284645\n",
      "[1600]\tvalid_0's binary_logloss: 0.15177\tvalid_0's gini: 0.284943\n",
      "[1700]\tvalid_0's binary_logloss: 0.151761\tvalid_0's gini: 0.285129\n",
      "[1800]\tvalid_0's binary_logloss: 0.151755\tvalid_0's gini: 0.28522\n",
      "[1900]\tvalid_0's binary_logloss: 0.151752\tvalid_0's gini: 0.285325\n",
      "[2000]\tvalid_0's binary_logloss: 0.151749\tvalid_0's gini: 0.285504\n",
      "[2100]\tvalid_0's binary_logloss: 0.151748\tvalid_0's gini: 0.285633\n",
      "[2200]\tvalid_0's binary_logloss: 0.151744\tvalid_0's gini: 0.285711\n",
      "[2300]\tvalid_0's binary_logloss: 0.15174\tvalid_0's gini: 0.285853\n",
      "[2400]\tvalid_0's binary_logloss: 0.15174\tvalid_0's gini: 0.28594\n",
      "[2500]\tvalid_0's binary_logloss: 0.151745\tvalid_0's gini: 0.285916\n",
      "Did not meet early stopping. Best iteration is:\n",
      "[2334]\tvalid_0's binary_logloss: 0.151736\tvalid_0's gini: 0.285929\n",
      "Fold 2 Gini Coef. : 0.2859292916021393\n",
      "\n",
      "######################################## Fold 3 / Fold 5 ########################################\n",
      "[LightGBM] [Info] Number of positive: 17356, number of negative: 458814\n",
      "[LightGBM] [Info] Total Bins 1558\n",
      "[LightGBM] [Info] Number of data points in the train set: 476170, number of used features: 217\n",
      "[LightGBM] [Info] [binary:BoostFromScore]: pavg=0.036449 -> initscore=-3.274707\n",
      "[LightGBM] [Info] Start training from score -3.274707\n",
      "Training until validation scores don't improve for 300 rounds\n",
      "[100]\tvalid_0's binary_logloss: 0.15424\tvalid_0's gini: 0.263985\n",
      "[200]\tvalid_0's binary_logloss: 0.153171\tvalid_0's gini: 0.268713\n",
      "[300]\tvalid_0's binary_logloss: 0.152574\tvalid_0's gini: 0.272773\n",
      "[400]\tvalid_0's binary_logloss: 0.152223\tvalid_0's gini: 0.275785\n",
      "[500]\tvalid_0's binary_logloss: 0.152001\tvalid_0's gini: 0.278098\n",
      "[600]\tvalid_0's binary_logloss: 0.151847\tvalid_0's gini: 0.280206\n",
      "[700]\tvalid_0's binary_logloss: 0.151748\tvalid_0's gini: 0.281603\n",
      "[800]\tvalid_0's binary_logloss: 0.151682\tvalid_0's gini: 0.282672\n",
      "[900]\tvalid_0's binary_logloss: 0.151637\tvalid_0's gini: 0.283423\n",
      "[1000]\tvalid_0's binary_logloss: 0.151608\tvalid_0's gini: 0.283963\n",
      "[1100]\tvalid_0's binary_logloss: 0.151589\tvalid_0's gini: 0.284105\n",
      "[1200]\tvalid_0's binary_logloss: 0.151574\tvalid_0's gini: 0.284387\n",
      "[1300]\tvalid_0's binary_logloss: 0.151575\tvalid_0's gini: 0.284318\n",
      "[1400]\tvalid_0's binary_logloss: 0.151572\tvalid_0's gini: 0.284372\n",
      "[1500]\tvalid_0's binary_logloss: 0.151569\tvalid_0's gini: 0.284466\n",
      "[1600]\tvalid_0's binary_logloss: 0.151574\tvalid_0's gini: 0.284435\n",
      "[1700]\tvalid_0's binary_logloss: 0.151579\tvalid_0's gini: 0.284362\n",
      "Early stopping, best iteration is:\n",
      "[1478]\tvalid_0's binary_logloss: 0.151568\tvalid_0's gini: 0.284492\n",
      "Fold 3 Gini Coef. : 0.2844916047790675\n",
      "\n",
      "######################################## Fold 4 / Fold 5 ########################################\n",
      "[LightGBM] [Info] Number of positive: 17355, number of negative: 458815\n",
      "[LightGBM] [Info] Total Bins 1555\n",
      "[LightGBM] [Info] Number of data points in the train set: 476170, number of used features: 216\n",
      "[LightGBM] [Info] [binary:BoostFromScore]: pavg=0.036447 -> initscore=-3.274766\n",
      "[LightGBM] [Info] Start training from score -3.274766\n",
      "Training until validation scores don't improve for 300 rounds\n",
      "[100]\tvalid_0's binary_logloss: 0.154327\tvalid_0's gini: 0.256916\n",
      "[200]\tvalid_0's binary_logloss: 0.15331\tvalid_0's gini: 0.261871\n",
      "[300]\tvalid_0's binary_logloss: 0.152761\tvalid_0's gini: 0.265441\n",
      "[400]\tvalid_0's binary_logloss: 0.152441\tvalid_0's gini: 0.268613\n",
      "[500]\tvalid_0's binary_logloss: 0.152245\tvalid_0's gini: 0.271168\n",
      "[600]\tvalid_0's binary_logloss: 0.152098\tvalid_0's gini: 0.273746\n",
      "[700]\tvalid_0's binary_logloss: 0.152012\tvalid_0's gini: 0.275192\n",
      "[800]\tvalid_0's binary_logloss: 0.151952\tvalid_0's gini: 0.276278\n",
      "[900]\tvalid_0's binary_logloss: 0.151911\tvalid_0's gini: 0.277039\n",
      "[1000]\tvalid_0's binary_logloss: 0.151871\tvalid_0's gini: 0.277996\n",
      "[1100]\tvalid_0's binary_logloss: 0.151844\tvalid_0's gini: 0.278535\n",
      "[1200]\tvalid_0's binary_logloss: 0.151827\tvalid_0's gini: 0.279055\n",
      "[1300]\tvalid_0's binary_logloss: 0.151817\tvalid_0's gini: 0.27936\n",
      "[1400]\tvalid_0's binary_logloss: 0.151799\tvalid_0's gini: 0.279872\n",
      "[1500]\tvalid_0's binary_logloss: 0.151797\tvalid_0's gini: 0.280053\n",
      "[1600]\tvalid_0's binary_logloss: 0.151792\tvalid_0's gini: 0.280148\n",
      "[1700]\tvalid_0's binary_logloss: 0.151794\tvalid_0's gini: 0.280162\n",
      "[1800]\tvalid_0's binary_logloss: 0.151793\tvalid_0's gini: 0.280319\n",
      "[1900]\tvalid_0's binary_logloss: 0.151795\tvalid_0's gini: 0.280422\n",
      "[2000]\tvalid_0's binary_logloss: 0.151797\tvalid_0's gini: 0.280419\n"
     ]
    },
    {
     "name": "stdout",
     "output_type": "stream",
     "text": [
      "[2100]\tvalid_0's binary_logloss: 0.151799\tvalid_0's gini: 0.280516\n",
      "Early stopping, best iteration is:\n",
      "[1852]\tvalid_0's binary_logloss: 0.15179\tvalid_0's gini: 0.280514\n",
      "Fold 4 Gini Coef. : 0.2805136229288192\n",
      "\n",
      "######################################## Fold 5 / Fold 5 ########################################\n",
      "[LightGBM] [Info] Number of positive: 17355, number of negative: 458815\n",
      "[LightGBM] [Info] Total Bins 1558\n",
      "[LightGBM] [Info] Number of data points in the train set: 476170, number of used features: 217\n",
      "[LightGBM] [Info] [binary:BoostFromScore]: pavg=0.036447 -> initscore=-3.274766\n",
      "[LightGBM] [Info] Start training from score -3.274766\n",
      "Training until validation scores don't improve for 300 rounds\n",
      "[100]\tvalid_0's binary_logloss: 0.15439\tvalid_0's gini: 0.26681\n",
      "[200]\tvalid_0's binary_logloss: 0.15338\tvalid_0's gini: 0.272186\n",
      "[300]\tvalid_0's binary_logloss: 0.152821\tvalid_0's gini: 0.275897\n",
      "[400]\tvalid_0's binary_logloss: 0.1525\tvalid_0's gini: 0.278734\n",
      "[500]\tvalid_0's binary_logloss: 0.152277\tvalid_0's gini: 0.282151\n",
      "[600]\tvalid_0's binary_logloss: 0.15212\tvalid_0's gini: 0.285039\n",
      "[700]\tvalid_0's binary_logloss: 0.152009\tvalid_0's gini: 0.287435\n",
      "[800]\tvalid_0's binary_logloss: 0.15192\tvalid_0's gini: 0.289549\n",
      "[900]\tvalid_0's binary_logloss: 0.151862\tvalid_0's gini: 0.290886\n",
      "[1000]\tvalid_0's binary_logloss: 0.151819\tvalid_0's gini: 0.291935\n",
      "[1100]\tvalid_0's binary_logloss: 0.151782\tvalid_0's gini: 0.292972\n",
      "[1200]\tvalid_0's binary_logloss: 0.151752\tvalid_0's gini: 0.293784\n",
      "[1300]\tvalid_0's binary_logloss: 0.151732\tvalid_0's gini: 0.294315\n",
      "[1400]\tvalid_0's binary_logloss: 0.151724\tvalid_0's gini: 0.294475\n",
      "[1500]\tvalid_0's binary_logloss: 0.151713\tvalid_0's gini: 0.294786\n",
      "[1600]\tvalid_0's binary_logloss: 0.1517\tvalid_0's gini: 0.295146\n",
      "[1700]\tvalid_0's binary_logloss: 0.151694\tvalid_0's gini: 0.295268\n",
      "[1800]\tvalid_0's binary_logloss: 0.151695\tvalid_0's gini: 0.295212\n",
      "[1900]\tvalid_0's binary_logloss: 0.151689\tvalid_0's gini: 0.295454\n",
      "[2000]\tvalid_0's binary_logloss: 0.151693\tvalid_0's gini: 0.2954\n",
      "[2100]\tvalid_0's binary_logloss: 0.151694\tvalid_0's gini: 0.295427\n",
      "[2200]\tvalid_0's binary_logloss: 0.151692\tvalid_0's gini: 0.295538\n",
      "[2300]\tvalid_0's binary_logloss: 0.151699\tvalid_0's gini: 0.295411\n",
      "Early stopping, best iteration is:\n",
      "[2045]\tvalid_0's binary_logloss: 0.151689\tvalid_0's gini: 0.295553\n",
      "Fold 5 Gini Coef. : 0.29555250456072807\n",
      "\n"
     ]
    }
   ],
   "source": [
    "from sklearn.model_selection import StratifiedKFold\n",
    "\n",
    "# 층화 K-Fold 교차 검증기 생성\n",
    "folds = StratifiedKFold(n_splits = 5, shuffle = True, random_state = 1991)\n",
    "\n",
    "# OOF -> 검증 데이터\n",
    "oof_val_preds = np.zeros(X.shape[0])\n",
    "\n",
    "# OOF -> 테스트 데이터\n",
    "oof_test_preds = np.zeros(X_test.shape[0])\n",
    "\n",
    "# OOF 훈련, 예측 \n",
    "for idx, (train_idx, valid_idx) in enumerate(folds.split(X, y)) :\n",
    "    # 각 폴드 구분\n",
    "    print('#'*40, f'Fold {idx+1} / Fold {folds.n_splits}' ,'#'*40)\n",
    "    \n",
    "    # Split data \n",
    "    X_train, y_train = X[train_idx], y[train_idx]\n",
    "    X_valid, y_valid = X[valid_idx], y[valid_idx]\n",
    "    \n",
    "    # LGBM dataset \n",
    "    dtrain = lgb.Dataset(X_train, y_train)\n",
    "    dvalid = lgb.Dataset(X_valid, y_valid)\n",
    "    \n",
    "    # LGBM training \n",
    "    lgb_model = lgb.train(params = max_params, \n",
    "                          train_set = dtrain, \n",
    "                          num_boost_round = 2500,\n",
    "                          valid_sets = dvalid,\n",
    "                          feval = gini,\n",
    "                          early_stopping_rounds = 300,\n",
    "                          verbose_eval = 100)\n",
    "    \n",
    "    # OOF prediction using test data \n",
    "    oof_test_preds += lgb_model.predict(X_test)/folds.n_splits\n",
    "    \n",
    "    # OOF prediction using valid data for evaluate performance of model \n",
    "    oof_val_preds[valid_idx] += lgb_model.predict(X_valid)\n",
    "    \n",
    "    # normalized gini coefficient for pred_proba for valid data \n",
    "    gini_score = eval_gini(y_valid, oof_val_preds[valid_idx])\n",
    "    \n",
    "    print(f'Fold {idx+1} Gini Coef. : {gini_score}\\n')"
   ]
  },
  {
   "cell_type": "code",
   "execution_count": 28,
   "metadata": {
    "ExecuteTime": {
     "end_time": "2022-06-07T12:31:34.618479Z",
     "start_time": "2022-06-07T12:31:34.470866Z"
    }
   },
   "outputs": [
    {
     "name": "stdout",
     "output_type": "stream",
     "text": [
      "OOF valid data Gini Coef. : 0.2889651000887542\n"
     ]
    }
   ],
   "source": [
    "print(f'OOF valid data Gini Coef. : {eval_gini(y, oof_val_preds)}')"
   ]
  },
  {
   "cell_type": "markdown",
   "metadata": {},
   "source": [
    "# 예측 및 결과 제출"
   ]
  },
  {
   "cell_type": "code",
   "execution_count": 29,
   "metadata": {
    "ExecuteTime": {
     "end_time": "2022-06-07T12:31:44.727759Z",
     "start_time": "2022-06-07T12:31:42.104458Z"
    }
   },
   "outputs": [],
   "source": [
    "submission['target'] = oof_test_preds\n",
    "submission.to_csv('submission_lgb.csv')"
   ]
  },
  {
   "attachments": {
    "image.png": {
     "image/png": "[encoded data removed]"
    }
   },
   "cell_type": "markdown",
   "metadata": {},
   "source": [
    "![image.png](attachment:image.png)"
   ]
  },
  {
   "attachments": {
    "image.png": {
     "image/png": "[encoded data removed]"
    }
   },
   "cell_type": "markdown",
   "metadata": {},
   "source": [
    "![image.png](attachment:image.png)"
   ]
  },
  {
   "cell_type": "code",
   "execution_count": null,
   "metadata": {},
   "outputs": [],
   "source": []
  }
 ],
 "metadata": {
  "hide_input": false,
  "kernelspec": {
   "display_name": "Python 3",
   "language": "python",
   "name": "python3"
  },
  "language_info": {
   "codemirror_mode": {
    "name": "ipython",
    "version": 3
   },
   "file_extension": ".py",
   "mimetype": "text/x-python",
   "name": "python",
   "nbconvert_exporter": "python",
   "pygments_lexer": "ipython3",
   "version": "3.8.5"
  },
  "toc": {
   "base_numbering": 1,
   "nav_menu": {},
   "number_sections": true,
   "sideBar": true,
   "skip_h1_title": false,
   "title_cell": "Table of Contents",
   "title_sidebar": "Contents",
   "toc_cell": false,
   "toc_position": {},
   "toc_section_display": true,
   "toc_window_display": true
  },
  "varInspector": {
   "cols": {
    "lenName": 16,
    "lenType": 16,
    "lenVar": 40
   },
   "kernels_config": {
    "python": {
     "delete_cmd_postfix": "",
     "delete_cmd_prefix": "del ",
     "library": "var_list.py",
     "varRefreshCmd": "print(var_dic_list())"
    },
    "r": {
     "delete_cmd_postfix": ") ",
     "delete_cmd_prefix": "rm(",
     "library": "var_list.r",
     "varRefreshCmd": "cat(var_dic_list()) "
    }
   },
   "types_to_exclude": [
    "module",
    "function",
    "builtin_function_or_method",
    "instance",
    "_Feature"
   ],
   "window_display": false
  }
 },
 "nbformat": 4,
 "nbformat_minor": 4
}
